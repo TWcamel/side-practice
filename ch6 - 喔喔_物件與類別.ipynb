{
 "cells": [
  {
   "cell_type": "markdown",
   "metadata": {},
   "source": [
    "沒有物件是神祕的，神秘的是你的眼睛。   -Elizabeth Bowen <br>\n",
    "拿起一個物件，對他做些事情，在對他做其他的事情。   -Jasper Johns"
   ]
  },
  {
   "cell_type": "markdown",
   "metadata": {},
   "source": [
    "## 甚麼是物件 ?"
   ]
  },
  {
   "cell_type": "markdown",
   "metadata": {},
   "source": [
    "物件裡面有資料( 變數，稱為「屬性」)與程式碼( 函式，稱為「方法」)<br>\n",
    "它代表某種具體事物唯一的實例。<br>\n",
    "例如，值為7的整數物件是一種使用家法與乘法等方法的物件<br><br>\n",
    "當我們要建立一個沒有人建立過的新物件時<br>\n",
    "必須先建立一個類別來說明他們裡面有些甚麼"
   ]
  },
  {
   "cell_type": "markdown",
   "metadata": {},
   "source": [
    "我們可以將物件想成名詞，他們的方法想成動詞。<br>\n",
    "一個物件代表一個獨立的事物，它的方法負責定義它與其他的事物該如何互動。<br><br>\n",
    "\n",
    "與模組不同的是，我們可以同時擁有很多個物件<br>\n",
    "每個物件的屬性擁有不同的值<br>\n",
    "他們就像被丟入程式碼的超級資料結構。"
   ]
  },
  {
   "cell_type": "markdown",
   "metadata": {},
   "source": [
    "### 用class來定義類別"
   ]
  },
  {
   "cell_type": "code",
   "execution_count": 1,
   "metadata": {},
   "outputs": [],
   "source": [
    "# 牛刀小試，空類別\n",
    "class person():\n",
    "    pass"
   ]
  },
  {
   "cell_type": "code",
   "execution_count": 2,
   "metadata": {},
   "outputs": [],
   "source": [
    "# 如同函式，我們需要用pass來說明這個類別是空的\n",
    "# 要建立物件，這個定義是最精簡的程式\n",
    "# 當我們要用類別來建立物件時\n",
    "# 請呼叫類別(class)的名稱，就像他們是個函式一樣：\n",
    "\n",
    "someone = person() #類別名稱是person()，some是個物件( Object ) \n",
    "\n",
    "# 此例中，person會建立一個「獨立的」物件，並指派名稱someone給他"
   ]
  },
  {
   "cell_type": "code",
   "execution_count": 4,
   "metadata": {},
   "outputs": [],
   "source": [
    "# 我們在來試試，這次加入特殊的Python 「物件初始方法」  __init__:\n",
    "class Person():\n",
    "    def __init__(self):\n",
    "        pass\n",
    "    \n",
    "# 當中，__init__是特殊的Python名稱，代表一個方法，這個方法會用他的類別定義來初始化一個單一物件\n",
    "# self引數說明它參考自己本身這個物件"
   ]
  },
  {
   "cell_type": "code",
   "execution_count": 5,
   "metadata": {},
   "outputs": [],
   "source": [
    "# 上面程式甚麼都做不了\n",
    "# 我們來試試看Python中建立一個最簡單的物件，這次我們會在初始化方法中添加參數name：\n",
    "class Person():\n",
    "    def __init__(self, name):\n",
    "        self.name = name  #這個物件的參考名稱為他自己\n",
    "\n",
    "# 接著，我們可以傳遞一個字串給name參數，用Person類別來建立一個物件：\n",
    "hunter = Person('Elmer Fudd')\n",
    "\n",
    "#### 以下是上面那行程式碼做的事情：\n",
    "# 查看Person「類別(class)」的定義\n",
    "# 在記憶體中「實例化(建立)」一個新物件\n",
    "# 呼叫該物件的 __init__方法( 屬性 )，傳遞這個新物件給self，以及另外一個引數('Elmer Fudd')給 name\n",
    "# 在物件中儲存 name 的值 !!! important !!!\n",
    "# 回傳新物件\n",
    "# 將名稱 hunter 指派給新物件"
   ]
  },
  {
   "cell_type": "code",
   "execution_count": 6,
   "metadata": {},
   "outputs": [],
   "source": [
    "# 這個新物件就像任何其他的Python物件\n",
    "# 我們可以將它當成串列、tuple、字典、或set(集合)的元素\n",
    "# 我們也可以將它當成引數傳送給函式，或將它當成結果來回傳"
   ]
  },
  {
   "cell_type": "code",
   "execution_count": 8,
   "metadata": {},
   "outputs": [
    {
     "name": "stdout",
     "output_type": "stream",
     "text": [
      "The mighty hunter: Elmer Fudd\n"
     ]
    }
   ],
   "source": [
    "# 至於我們回傳的name呢?\n",
    "# 它會被當成屬性，與物件一起被儲存，以便讓我們直接讀取或寫入它：\n",
    "print('The mighty hunter:', hunter.name)\n",
    "\n",
    "# 請記得在Person類別定義裡面，我們可以用self.name來存取name屬性\n",
    "# 當我們建立一個實際的物件，例如hunter時，藥用hunter.name來定義它 !!"
   ]
  },
  {
   "cell_type": "markdown",
   "metadata": {},
   "source": [
    "### 繼承\n",
    "想像一下我們儲存遊戲，我們如果直接把進度良好的存檔蓋過去，結果可能會難以想像。 <br>\n",
    "或是剪下就得，貼到新的，合併我的紀錄檔，但這種作法代表我們要維護更多的程式 <br> <br>\n",
    "解決之道就是使用「繼承」：使用既有得類別來建立一個新的類別，但加入一些新的東西，或是修改它<br>\n",
    "原本的類別稱為「父系( parent )」、「超類別( superclass )」、或是「基礎類別( base class )」<br>\n",
    "新類別稱為「子系( chlid )」、「子類別( subclass )」、或是「衍生類別( derived class )」\n"
   ]
  },
  {
   "cell_type": "code",
   "execution_count": 9,
   "metadata": {},
   "outputs": [],
   "source": [
    "# 牛刀小試\n",
    "class Car(): #父類別\n",
    "    pass\n",
    "\n",
    "class Yugo(Car): #子類別\n",
    "    pass\n",
    "\n",
    "# 接下來，分別用每一個類別來建立一個物件：\n",
    "give_me_a_car = Car()\n",
    "give_me_a_Yugo = Yugo() \n",
    "\n",
    "# 子類別是父類別的一個特例\n",
    "# 在物件導向的術語中，Yugo is-a Car\n",
    "# 名為give_me_a_Yugo的物件是Yugo的一個特例，但它也繼承Car可以做的所有事情。"
   ]
  },
  {
   "cell_type": "code",
   "execution_count": 37,
   "metadata": {},
   "outputs": [
    {
     "name": "stdout",
     "output_type": "stream",
     "text": [
      "I'm a Car! <class 'str'> \n",
      "\n",
      "I'm a Car!\n"
     ]
    }
   ],
   "source": [
    "# 可以動的新類別：\n",
    "class Car(): #父類別\n",
    "    def exclaim(self):  #方法\n",
    "        return \"I'm a Car!\"\n",
    "\n",
    "class Yugo(Car): #子類別\n",
    "    pass\n",
    "\n",
    "# 接下來，製作每個物件的類別，並呼叫exclaim方法：\n",
    "give_me_a_car = Car()\n",
    "give_me_a_yugo = Yugo()\n",
    "print(give_me_a_car.exclaim(), type(give_me_a_car.exclaim()), '\\n')  \n",
    "print(give_me_a_yugo.exclaim())                                      "
   ]
  },
  {
   "cell_type": "markdown",
   "metadata": {},
   "source": [
    "### 覆寫方法\n",
    "新類別一開始就會繼承它的父類別的任何東西。<br>\n",
    "接下來，我們會看到如何覆寫或替換父類別的方法 <br>"
   ]
  },
  {
   "cell_type": "code",
   "execution_count": 38,
   "metadata": {},
   "outputs": [
    {
     "name": "stdout",
     "output_type": "stream",
     "text": [
      "I'm a Car! <class 'str'> \n",
      "\n",
      "I'm a Yugo! Much like a car, but more Yugo-ish\n"
     ]
    }
   ],
   "source": [
    "class Car(): #父類別\n",
    "    def exclaim(self):  #方法\n",
    "        return \"I'm a Car!\"\n",
    "    \n",
    "class Yugo(Car): #子類別\n",
    "    def exclaim(self):  #方法\n",
    "        return \"I'm a Yugo! Much like a car, but more Yugo-ish\"\n",
    "    \n",
    "give_me_a_car = Car()\n",
    "give_me_a_yugo = Yugo()\n",
    "print(give_me_a_car.exclaim(), type(give_me_a_car.exclaim()), '\\n')  \n",
    "print(give_me_a_yugo.exclaim()) "
   ]
  },
  {
   "cell_type": "code",
   "execution_count": 41,
   "metadata": {},
   "outputs": [
    {
     "name": "stdout",
     "output_type": "stream",
     "text": [
      "Fudd\n",
      "Doctor Fudd\n",
      "Fudd, Esquire\n"
     ]
    }
   ],
   "source": [
    "# 我們也可以覆寫__init__\n",
    "# 借用稍早的Person類別\n",
    "# 我們要製作代表醫生( MDPerson )和律師( JDPerson )的子類別：\n",
    "\n",
    "class Person():\n",
    "    def __init__(self, name):\n",
    "        self.name = name  #這個物件的參考名稱為他自己\n",
    "        \n",
    "class MDPerson():\n",
    "    def __init__(self, name):\n",
    "        self.name = \"Doctor \" + name  #這個物件的參考名稱為'Doctor'加上他自己\n",
    "        \n",
    "class JDPerson():\n",
    "    def __init__(self, name):\n",
    "        self.name = name + \", Esquire\"  \n",
    "\n",
    "# 在這些案例中，初始化方法 __init__()會與父類別Person接收相同的引數\n",
    "# 但會將name的值存在物件實例內不同的地方\n",
    "\n",
    "person = Person('Fudd')\n",
    "doctor = MDPerson('Fudd')\n",
    "lawyer = JDPerson('Fudd')\n",
    "print(person.name)\n",
    "print(doctor.name)\n",
    "print(lawyer.name)"
   ]
  },
  {
   "cell_type": "markdown",
   "metadata": {},
   "source": [
    "### 用super來讓父系幫助你\n",
    "適用於我們想要呼叫父類別的方法時，我們只要說super()"
   ]
  },
  {
   "cell_type": "code",
   "execution_count": 44,
   "metadata": {},
   "outputs": [],
   "source": [
    "class Person():\n",
    "    def __init__(self, name):\n",
    "        self.name = name  #這個物件的參考名稱為他自己\n",
    "\n",
    "class EmailPerson(Person): #把Person給裝進來了→→「繼承」\n",
    "    def __init__(self, name, email):\n",
    "        super().__init__(name) # 「繼承」父類別 __init__方法中的name引數\n",
    "        self.email = email #這個物件的參考email為email\n",
    "        \n",
    "# 當我們為子類別定義__init__()方法時\n",
    "# 代表要用它來取代父類別的__init__()方法，在也不會自動呼叫後者\n",
    "# 所以我們必須明確清楚的定義它，以下會是發生的事情：\n",
    "\n",
    "# super()取得父類別Person的定義\n",
    "# __init__()方法呼叫Person.__init__()方法，它會負責將self引數傳給父類別\n",
    "# 此例中，父類別收到的引數只有name\n",
    "# self.email = email這一行是新的程式，就是因為它，才讓EmailPerson與Person有所差異    "
   ]
  },
  {
   "cell_type": "code",
   "execution_count": 46,
   "metadata": {},
   "outputs": [
    {
     "name": "stdout",
     "output_type": "stream",
     "text": [
      "Bob Frapples\n",
      "bob@frapples.com\n"
     ]
    }
   ],
   "source": [
    "# 接著我們來製作一個生物\n",
    "bob = EmailPerson('Bob Frapples', 'bob@frapples.com')\n",
    "\n",
    "# 我們應該可以存取email屬性\n",
    "print(bob.name)\n",
    "print(bob.email)"
   ]
  },
  {
   "cell_type": "markdown",
   "metadata": {},
   "source": [
    "### self防衛\n",
    "Python會使用self來尋找正確物件的屬性與方法。<br>\n",
    "例如，我們會看到該如何呼叫某個物件的方法，以及python會在幕後做甚麼事情!"
   ]
  },
  {
   "cell_type": "code",
   "execution_count": 47,
   "metadata": {},
   "outputs": [
    {
     "data": {
      "text/plain": [
       "\"I'm a Car!\""
      ]
     },
     "execution_count": 47,
     "metadata": {},
     "output_type": "execute_result"
    }
   ],
   "source": [
    "class Car(): #父類別\n",
    "    def exclaim(self):  #方法\n",
    "        return \"I'm a Car!\"\n",
    "    \n",
    "car = Car()\n",
    "car.exclaim()\n",
    "\n",
    "# 以下是Python在私底下做的事情：\n",
    "# 查看物件car的類別(Car)\n",
    "# 將物件 car 當作self參數，傳給 Car 類別的exclaim() 方法"
   ]
  },
  {
   "cell_type": "code",
   "execution_count": null,
   "metadata": {},
   "outputs": [],
   "source": []
  }
 ],
 "metadata": {
  "kernelspec": {
   "display_name": "Python 3",
   "language": "python",
   "name": "python3"
  },
  "language_info": {
   "codemirror_mode": {
    "name": "ipython",
    "version": 3
   },
   "file_extension": ".py",
   "mimetype": "text/x-python",
   "name": "python",
   "nbconvert_exporter": "python",
   "pygments_lexer": "ipython3",
   "version": "3.6.8"
  }
 },
 "nbformat": 4,
 "nbformat_minor": 2
}
