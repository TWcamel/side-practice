{
 "cells": [
  {
   "cell_type": "markdown",
   "metadata": {},
   "source": [
    "沒有物件是神祕的，神秘的是你的眼睛。   -Elizabeth Bowen <br>\n",
    "拿起一個物件，對他做些事情，在對他做其他的事情。   -Jasper Johns"
   ]
  },
  {
   "cell_type": "markdown",
   "metadata": {},
   "source": [
    "## 甚麼是物件 ?"
   ]
  },
  {
   "cell_type": "markdown",
   "metadata": {},
   "source": [
    "物件裡面有資料( 變數，稱為「屬性」)與程式碼( 函式，稱為「方法」)<br>\n",
    "它代表某種具體事物唯一的實例。<br>\n",
    "例如，值為7的整數物件是一種使用家法與乘法等方法的物件<br><br>\n",
    "當我們要建立一個沒有人建立過的新物件時<br>\n",
    "必須先建立一個類別來說明他們裡面有些甚麼"
   ]
  },
  {
   "cell_type": "markdown",
   "metadata": {},
   "source": [
    "我們可以將物件想成名詞，他們的方法想成動詞。<br>\n",
    "一個物件代表一個獨立的事物，它的方法負責定義它與其他的事物該如何互動。<br><br>\n",
    "\n",
    "與模組不同的是，我們可以同時擁有很多個物件<br>\n",
    "每個物件的屬性擁有不同的值<br>\n",
    "他們就像被丟入程式碼的超級資料結構。"
   ]
  },
  {
   "cell_type": "markdown",
   "metadata": {},
   "source": [
    "### 用class來定義類別"
   ]
  },
  {
   "cell_type": "code",
   "execution_count": 1,
   "metadata": {},
   "outputs": [],
   "source": [
    "# 牛刀小試，空類別\n",
    "class person():\n",
    "    pass"
   ]
  },
  {
   "cell_type": "code",
   "execution_count": 2,
   "metadata": {},
   "outputs": [],
   "source": [
    "# 如同函式，我們需要用pass來說明這個類別是空的\n",
    "# 要建立物件，這個定義是最精簡的程式\n",
    "# 當我們要用類別來建立物件時\n",
    "# 請呼叫類別(class)的名稱，就像他們是個函式一樣：\n",
    "\n",
    "someone = person() #類別名稱是person()，some是個物件( Object ) \n",
    "\n",
    "# 此例中，person會建立一個「獨立的」物件，並指派名稱someone給他"
   ]
  },
  {
   "cell_type": "code",
   "execution_count": 4,
   "metadata": {},
   "outputs": [],
   "source": [
    "# 我們在來試試，這次加入特殊的Python 「物件初始方法」  __init__:\n",
    "class Person():\n",
    "    def __init__(self):\n",
    "        pass\n",
    "    \n",
    "# 當中，__init__是特殊的Python名稱，代表一個方法，這個方法會用他的類別定義來初始化一個單一物件\n",
    "# self引數說明它參考自己本身這個物件"
   ]
  },
  {
   "cell_type": "code",
   "execution_count": 5,
   "metadata": {},
   "outputs": [],
   "source": [
    "# 上面程式甚麼都做不了\n",
    "# 我們來試試看Python中建立一個最簡單的物件，這次我們會在初始化方法中添加參數name：\n",
    "class Person():\n",
    "    def __init__(self, name):\n",
    "        self.name = name  #這個物件的參考名稱為他自己\n",
    "\n",
    "# 接著，我們可以傳遞一個字串給name參數，用Person類別來建立一個物件：\n",
    "hunter = Person('Elmer Fudd')\n",
    "\n",
    "#### 以下是上面那行程式碼做的事情：\n",
    "# 查看Person「類別(class)」的定義\n",
    "# 在記憶體中「實例化(建立)」一個新物件\n",
    "# 呼叫該物件的 __init__方法( 屬性 )，傳遞這個新物件給self，以及另外一個引數('Elmer Fudd')給 name\n",
    "# 在物件中儲存 name 的值 !!! important !!!\n",
    "# 回傳新物件\n",
    "# 將名稱 hunter 指派給新物件"
   ]
  },
  {
   "cell_type": "code",
   "execution_count": 6,
   "metadata": {},
   "outputs": [],
   "source": [
    "# 這個新物件就像任何其他的Python物件\n",
    "# 我們可以將它當成串列、tuple、字典、或set(集合)的元素\n",
    "# 我們也可以將它當成引數傳送給函式，或將它當成結果來回傳"
   ]
  },
  {
   "cell_type": "code",
   "execution_count": 8,
   "metadata": {},
   "outputs": [
    {
     "name": "stdout",
     "output_type": "stream",
     "text": [
      "The mighty hunter: Elmer Fudd\n"
     ]
    }
   ],
   "source": [
    "# 至於我們回傳的name呢?\n",
    "# 它會被當成屬性，與物件一起被儲存，以便讓我們直接讀取或寫入它：\n",
    "print('The mighty hunter:', hunter.name)\n",
    "\n",
    "# 請記得在Person類別定義裡面，我們可以用self.name來存取name屬性\n",
    "# 當我們建立一個實際的物件，例如hunter時，藥用hunter.name來定義它 !!"
   ]
  },
  {
   "cell_type": "markdown",
   "metadata": {},
   "source": [
    "### 繼承\n",
    "想像一下我們儲存遊戲，我們如果直接把進度良好的存檔蓋過去，結果可能會難以想像。 <br>\n",
    "或是剪下就得，貼到新的，合併我的紀錄檔，但這種作法代表我們要維護更多的程式 <br> <br>\n",
    "解決之道就是使用「繼承」：使用既有得類別來建立一個新的類別，但加入一些新的東西，或是修改它<br>\n",
    "原本的類別稱為「父系( parent )」、「超類別( superclass )」、或是「基礎類別( base class )」<br>\n",
    "新類別稱為「子系( chlid )」、「子類別( subclass )」、或是「衍生類別( derived class )」\n"
   ]
  },
  {
   "cell_type": "code",
   "execution_count": 9,
   "metadata": {},
   "outputs": [],
   "source": [
    "# 牛刀小試\n",
    "class Car(): #父類別\n",
    "    pass\n",
    "\n",
    "class Yugo(Car): #子類別\n",
    "    pass\n",
    "\n",
    "# 接下來，分別用每一個類別來建立一個物件：\n",
    "give_me_a_car = Car()\n",
    "give_me_a_Yugo = Yugo() \n",
    "\n",
    "# 子類別是父類別的一個特例\n",
    "# 在物件導向的術語中，Yugo is-a Car\n",
    "# 名為give_me_a_Yugo的物件是Yugo的一個特例，但它也繼承Car可以做的所有事情。"
   ]
  },
  {
   "cell_type": "code",
   "execution_count": 37,
   "metadata": {},
   "outputs": [
    {
     "name": "stdout",
     "output_type": "stream",
     "text": [
      "I'm a Car! <class 'str'> \n",
      "\n",
      "I'm a Car!\n"
     ]
    }
   ],
   "source": [
    "# 可以動的新類別：\n",
    "class Car(): #父類別\n",
    "    def exclaim(self):  #方法\n",
    "        return \"I'm a Car!\"\n",
    "\n",
    "class Yugo(Car): #子類別\n",
    "    pass\n",
    "\n",
    "# 接下來，製作每個物件的類別，並呼叫exclaim方法：\n",
    "give_me_a_car = Car()\n",
    "give_me_a_yugo = Yugo()\n",
    "print(give_me_a_car.exclaim(), type(give_me_a_car.exclaim()), '\\n')  \n",
    "print(give_me_a_yugo.exclaim())                                      "
   ]
  },
  {
   "cell_type": "markdown",
   "metadata": {},
   "source": [
    "### 覆寫方法\n",
    "新類別一開始就會繼承它的父類別的任何東西。<br>\n",
    "接下來，我們會看到如何覆寫或替換父類別的方法 <br>"
   ]
  },
  {
   "cell_type": "code",
   "execution_count": 38,
   "metadata": {},
   "outputs": [
    {
     "name": "stdout",
     "output_type": "stream",
     "text": [
      "I'm a Car! <class 'str'> \n",
      "\n",
      "I'm a Yugo! Much like a car, but more Yugo-ish\n"
     ]
    }
   ],
   "source": [
    "class Car(): #父類別\n",
    "    def exclaim(self):  #方法\n",
    "        return \"I'm a Car!\"\n",
    "    \n",
    "class Yugo(Car): #子類別\n",
    "    def exclaim(self):  #方法\n",
    "        return \"I'm a Yugo! Much like a car, but more Yugo-ish\"\n",
    "    \n",
    "give_me_a_car = Car()\n",
    "give_me_a_yugo = Yugo()\n",
    "print(give_me_a_car.exclaim(), type(give_me_a_car.exclaim()), '\\n')  \n",
    "print(give_me_a_yugo.exclaim()) "
   ]
  },
  {
   "cell_type": "code",
   "execution_count": 41,
   "metadata": {},
   "outputs": [
    {
     "name": "stdout",
     "output_type": "stream",
     "text": [
      "Fudd\n",
      "Doctor Fudd\n",
      "Fudd, Esquire\n"
     ]
    }
   ],
   "source": [
    "# 我們也可以覆寫__init__\n",
    "# 借用稍早的Person類別\n",
    "# 我們要製作代表醫生( MDPerson )和律師( JDPerson )的子類別：\n",
    "\n",
    "class Person():\n",
    "    def __init__(self, name):\n",
    "        self.name = name  #這個物件的參考名稱為他自己\n",
    "        \n",
    "class MDPerson():\n",
    "    def __init__(self, name):\n",
    "        self.name = \"Doctor \" + name  #這個物件的參考名稱為'Doctor'加上他自己\n",
    "        \n",
    "class JDPerson():\n",
    "    def __init__(self, name):\n",
    "        self.name = name + \", Esquire\"  \n",
    "\n",
    "# 在這些案例中，初始化方法 __init__()會與父類別Person接收相同的引數\n",
    "# 但會將name的值存在物件實例內不同的地方\n",
    "\n",
    "person = Person('Fudd')\n",
    "doctor = MDPerson('Fudd')\n",
    "lawyer = JDPerson('Fudd')\n",
    "print(person.name)\n",
    "print(doctor.name)\n",
    "print(lawyer.name)"
   ]
  },
  {
   "cell_type": "markdown",
   "metadata": {},
   "source": [
    "### 用super來讓父系幫助你\n",
    "適用於我們想要呼叫父類別的方法時，我們只要說super()"
   ]
  },
  {
   "cell_type": "code",
   "execution_count": 44,
   "metadata": {},
   "outputs": [],
   "source": [
    "class Person():\n",
    "    def __init__(self, name):\n",
    "        self.name = name  #這個物件的參考名稱為他自己\n",
    "\n",
    "class EmailPerson(Person): #把Person給裝進來了→→「繼承」\n",
    "    def __init__(self, name, email):\n",
    "        super().__init__(name) # 「繼承」父類別 __init__方法中的name引數\n",
    "        self.email = email #這個物件的參考email為email\n",
    "        \n",
    "# 當我們為子類別定義__init__()方法時\n",
    "# 代表要用它來取代父類別的__init__()方法，在也不會自動呼叫後者\n",
    "# 所以我們必須明確清楚的定義它，以下會是發生的事情：\n",
    "\n",
    "# super()取得父類別Person的定義\n",
    "# __init__()方法呼叫Person.__init__()方法，它會負責將self引數傳給父類別\n",
    "# 此例中，父類別收到的引數只有name\n",
    "# self.email = email這一行是新的程式，就是因為它，才讓EmailPerson與Person有所差異    "
   ]
  },
  {
   "cell_type": "code",
   "execution_count": 46,
   "metadata": {},
   "outputs": [
    {
     "name": "stdout",
     "output_type": "stream",
     "text": [
      "Bob Frapples\n",
      "bob@frapples.com\n"
     ]
    }
   ],
   "source": [
    "# 接著我們來製作一個生物\n",
    "bob = EmailPerson('Bob Frapples', 'bob@frapples.com')\n",
    "\n",
    "# 我們應該可以存取email屬性\n",
    "print(bob.name)\n",
    "print(bob.email)"
   ]
  },
  {
   "cell_type": "markdown",
   "metadata": {},
   "source": [
    "### self防衛\n",
    "Python會使用self來尋找正確物件的屬性與方法。<br>\n",
    "例如，我們會看到該如何呼叫某個物件的方法，以及python會在幕後做甚麼事情!"
   ]
  },
  {
   "cell_type": "code",
   "execution_count": 47,
   "metadata": {},
   "outputs": [
    {
     "data": {
      "text/plain": [
       "\"I'm a Car!\""
      ]
     },
     "execution_count": 47,
     "metadata": {},
     "output_type": "execute_result"
    }
   ],
   "source": [
    "class Car(): #父類別\n",
    "    def exclaim(self):  #方法\n",
    "        return \"I'm a Car!\"\n",
    "    \n",
    "car = Car()\n",
    "car.exclaim()\n",
    "\n",
    "# 以下是Python在私底下做的事情：\n",
    "# 查看物件car的類別(Car)\n",
    "# 將物件 car 當作self參數，傳給 Car 類別的exclaim() 方法"
   ]
  },
  {
   "cell_type": "markdown",
   "metadata": {},
   "source": [
    "### 使用特性來取得屬性值與設定它\n",
    "有些物件導向語言會提供 私有的物件屬性 我們無法於外部存取他們，通常需要經過getter 與 setter方法來存取它們<br>\n",
    "Python不在需要getter 與 setter，因為所有屬性與方法都是共用的，我們必須為自己的行為負責任!<br>\n",
    "如果我們不敢直接存取屬性，也可以編寫 getter 與 setter，但是要採取Python的風格--使用特性( property ) <br><br>"
   ]
  },
  {
   "cell_type": "markdown",
   "metadata": {},
   "source": [
    "於下面的範例中，我們會定義一個Duck類別它只有一個屬性：hidden_name<br>\n",
    "我們不希望有人直接存取它，所以會定義兩個方法：一個getter(get_name) 與一個 setter(set_name()) <br>\n",
    "我們在這兩個方法裡面加入一個print()陳述式，來顯示他們被呼叫。<br>\n",
    "最後，我們將這些方法定義為name屬性的特性："
   ]
  },
  {
   "cell_type": "code",
   "execution_count": 39,
   "metadata": {},
   "outputs": [
    {
     "name": "stdout",
     "output_type": "stream",
     "text": [
      "inside the getter\n"
     ]
    },
    {
     "data": {
      "text/plain": [
       "'Howard'"
      ]
     },
     "execution_count": 39,
     "metadata": {},
     "output_type": "execute_result"
    }
   ],
   "source": [
    "class Duck():\n",
    "    def __init__(self, input_name):\n",
    "        self.hidden_name = input_name\n",
    "    def get_name(self):\n",
    "        print('inside the getter')\n",
    "        return self.hidden_name\n",
    "    def set_name(self, input_name):\n",
    "        print('inside the setter')\n",
    "        self.hidden_name = input_name\n",
    "    name = property(get_name, set_name)\n",
    "\n",
    "# 在最後一行前面，新方法的行為就像是一般的 getter 與 setter\n",
    "# 它將這兩個方法定義成 name 屬性的特性，第一個傳入 property()的引數是 getter方法，第二個是 setter。\n",
    "# 接著，當我們參考任何Duck物件的name時，它其實會呼叫get_name方法，並回傳它!\n",
    "\n",
    "fowl = Duck('Howard')\n",
    "fowl.name"
   ]
  },
  {
   "cell_type": "code",
   "execution_count": 40,
   "metadata": {},
   "outputs": [
    {
     "name": "stdout",
     "output_type": "stream",
     "text": [
      "inside the getter\n"
     ]
    },
    {
     "data": {
      "text/plain": [
       "'Howard'"
      ]
     },
     "execution_count": 40,
     "metadata": {},
     "output_type": "execute_result"
    }
   ],
   "source": [
    "# 我們還是可以直接呼叫get_name()，就像一般的getter方法一樣\n",
    "fowl.get_name()\n"
   ]
  },
  {
   "cell_type": "code",
   "execution_count": 41,
   "metadata": {},
   "outputs": [
    {
     "name": "stdout",
     "output_type": "stream",
     "text": [
      "inside the setter\n",
      "inside the getter\n"
     ]
    },
    {
     "data": {
      "text/plain": [
       "'Daddy'"
      ]
     },
     "execution_count": 41,
     "metadata": {},
     "output_type": "execute_result"
    }
   ],
   "source": [
    "# 當我們將一個值指派給name屬性時，就會呼叫 set_name()方法：\n",
    "fowl.name = 'Daddy'\n",
    "fowl.name"
   ]
  },
  {
   "cell_type": "code",
   "execution_count": 42,
   "metadata": {},
   "outputs": [
    {
     "name": "stdout",
     "output_type": "stream",
     "text": [
      "inside the setter\n",
      "inside the getter\n"
     ]
    },
    {
     "data": {
      "text/plain": [
       "'Daddy'"
      ]
     },
     "execution_count": 42,
     "metadata": {},
     "output_type": "execute_result"
    }
   ],
   "source": [
    "# 我們也可以直接呼叫 set_name()方法：\n",
    "fowl.set_name('Daddy')\n",
    "fowl.name"
   ]
  },
  {
   "cell_type": "code",
   "execution_count": 13,
   "metadata": {},
   "outputs": [],
   "source": [
    "# 另外一個定義特性( property )的方法，就是使用「裝飾器」\n",
    "# 接下我們會定義兩個不同的方法，他們都叫name()，但會在前面放上不同的裝飾器：\n",
    "# @property，在 getter方法之前\n",
    "# @name.setter，在 setter方法之前\n",
    "\n",
    "class Duck():\n",
    "    def __init__(self, input_name):\n",
    "        self.hidden_name = input_name\n",
    "    @property\n",
    "    def name(self):\n",
    "        print('inside the getter')\n",
    "        return self.hidden_name\n",
    "    @name.setter #裝飾器裡面有：(@name，一個特性(@property)的裡面的)(setter，一個特性「定義」的設定)\n",
    "    def name(self, input_name): #name方法中的hidden_name是一個類別裡面的經過計算而得的特性\n",
    "        print('inside the setter')\n",
    "        self.hidden_name = input_name  \n",
    "    "
   ]
  },
  {
   "cell_type": "code",
   "execution_count": 14,
   "metadata": {},
   "outputs": [
    {
     "name": "stdout",
     "output_type": "stream",
     "text": [
      "inside the getter\n"
     ]
    },
    {
     "data": {
      "text/plain": [
       "'Howard'"
      ]
     },
     "execution_count": 14,
     "metadata": {},
     "output_type": "execute_result"
    }
   ],
   "source": [
    "# 我們還是可以將name當成屬性來存取\n",
    "# 但是這裡看不到get_name()或set_name()方法\n",
    "fowl = Duck('Howard')\n",
    "fowl.name"
   ]
  },
  {
   "cell_type": "code",
   "execution_count": 15,
   "metadata": {},
   "outputs": [
    {
     "name": "stdout",
     "output_type": "stream",
     "text": [
      "inside the setter\n",
      "inside the getter\n"
     ]
    },
    {
     "data": {
      "text/plain": [
       "'Norland'"
      ]
     },
     "execution_count": 15,
     "metadata": {},
     "output_type": "execute_result"
    }
   ],
   "source": [
    "fowl.name = 'Norland'\n",
    "fowl.name"
   ]
  },
  {
   "cell_type": "markdown",
   "metadata": {},
   "source": [
    "在前面兩個例子中，我們使用name特性來參考一個被存在物件裡面的屬性(這裡稱為hidden_name) <br>\n",
    "特性( name )也可以參考「算出來的值」 <br>\n",
    "\n",
    "###note###<br>\n",
    "一個類別(class)裡面的方法(def)中的參數(如： __ init __ (self, input_name)中的input_name)稱為「屬性」<br>\n",
    "而這些屬性經過一些方法的計算所輸出的結果稱為「特性」"
   ]
  },
  {
   "cell_type": "code",
   "execution_count": 16,
   "metadata": {},
   "outputs": [],
   "source": [
    "# 我們來定義一個Circle類別，它有一個radius屬性，與一個「算出來的diameter特性」：\n",
    "class Circle():\n",
    "    def __init__(self, radius):\n",
    "        self.radius = radius\n",
    "    @property\n",
    "    def diameter(self):\n",
    "        return 2 * self.radius"
   ]
  },
  {
   "cell_type": "code",
   "execution_count": 17,
   "metadata": {},
   "outputs": [
    {
     "data": {
      "text/plain": [
       "5"
      ]
     },
     "execution_count": 17,
     "metadata": {},
     "output_type": "execute_result"
    }
   ],
   "source": [
    "# 我們建議一個Circle物件ciii，並且為radius設定一個初始值：\n",
    "ciii = Circle(5)\n",
    "ciii.radius # ciii這個物件的radius特性為何?"
   ]
  },
  {
   "cell_type": "code",
   "execution_count": 18,
   "metadata": {},
   "outputs": [
    {
     "data": {
      "text/plain": [
       "14"
      ]
     },
     "execution_count": 18,
     "metadata": {},
     "output_type": "execute_result"
    }
   ],
   "source": [
    "# 我們可以像radius一樣，把diameter當成屬性來參考\n",
    "c.radius = 7\n",
    "c.diameter # c這個物件的radius特性為何?"
   ]
  },
  {
   "cell_type": "code",
   "execution_count": 19,
   "metadata": {},
   "outputs": [
    {
     "ename": "AttributeError",
     "evalue": "can't set attribute",
     "output_type": "error",
     "traceback": [
      "\u001b[1;31m---------------------------------------------------------------------------\u001b[0m",
      "\u001b[1;31mAttributeError\u001b[0m                            Traceback (most recent call last)",
      "\u001b[1;32m<ipython-input-19-97043b0a47ea>\u001b[0m in \u001b[0;36m<module>\u001b[1;34m\u001b[0m\n\u001b[0;32m      2\u001b[0m \u001b[1;31m# 就不能再外部設定它\u001b[0m\u001b[1;33m\u001b[0m\u001b[1;33m\u001b[0m\u001b[1;33m\u001b[0m\u001b[0m\n\u001b[0;32m      3\u001b[0m \u001b[1;31m# 這對於唯獨的屬性來說很方便，如下：\u001b[0m\u001b[1;33m\u001b[0m\u001b[1;33m\u001b[0m\u001b[1;33m\u001b[0m\u001b[0m\n\u001b[1;32m----> 4\u001b[1;33m \u001b[0mc\u001b[0m\u001b[1;33m.\u001b[0m\u001b[0mdiameter\u001b[0m \u001b[1;33m=\u001b[0m \u001b[1;36m20\u001b[0m\u001b[1;33m\u001b[0m\u001b[1;33m\u001b[0m\u001b[0m\n\u001b[0m\u001b[0;32m      5\u001b[0m \u001b[1;33m\u001b[0m\u001b[0m\n\u001b[0;32m      6\u001b[0m \u001b[1;31m# 比起直接存取屬性\u001b[0m\u001b[1;33m\u001b[0m\u001b[1;33m\u001b[0m\u001b[1;33m\u001b[0m\u001b[0m\n",
      "\u001b[1;31mAttributeError\u001b[0m: can't set attribute"
     ]
    }
   ],
   "source": [
    "# 如果我們沒有指定 setter (特性, property) 給某個屬性\n",
    "# 就不能再外部設定它\n",
    "# 這對於唯獨的屬性來說很方便，如下：\n",
    "c.diameter = 20\n",
    "\n",
    "# 比起直接存取屬性\n",
    "# 使用特性還有一個很大的好處：\n",
    "# 當我們更改屬性的定義時\n",
    "# 只要修改類別定義裡面的程式就可以了\n",
    "# 不需要修改所有呼叫方\n"
   ]
  },
  {
   "cell_type": "markdown",
   "metadata": {},
   "source": [
    "### 搞砸私用名稱\n",
    "於Duck類別的範例中，我們呼叫( 不完整 ) 隱藏的特性hidden_name。<br>\n",
    "對於不能被類別定義式之外的程式「看到」的特性， Python還有一個命名規範：<br>\n",
    "在開頭使用「雙底線( __ )」"
   ]
  },
  {
   "cell_type": "code",
   "execution_count": 30,
   "metadata": {},
   "outputs": [
    {
     "name": "stdout",
     "output_type": "stream",
     "text": [
      "inside the getter\n"
     ]
    },
    {
     "ename": "AttributeError",
     "evalue": "'Duck' object has no attribute '_Duck__name'",
     "output_type": "error",
     "traceback": [
      "\u001b[1;31m---------------------------------------------------------------------------\u001b[0m",
      "\u001b[1;31mAttributeError\u001b[0m                            Traceback (most recent call last)",
      "\u001b[1;32m<ipython-input-30-755a8c51470c>\u001b[0m in \u001b[0;36m<module>\u001b[1;34m\u001b[0m\n\u001b[0;32m     16\u001b[0m \u001b[1;31m# 花點時間查看一下結果是不是正確的：\u001b[0m\u001b[1;33m\u001b[0m\u001b[1;33m\u001b[0m\u001b[1;33m\u001b[0m\u001b[0m\n\u001b[0;32m     17\u001b[0m \u001b[0mfowl\u001b[0m \u001b[1;33m=\u001b[0m \u001b[0mDuck\u001b[0m\u001b[1;33m(\u001b[0m\u001b[1;34m'Howard'\u001b[0m\u001b[1;33m)\u001b[0m\u001b[1;33m\u001b[0m\u001b[1;33m\u001b[0m\u001b[0m\n\u001b[1;32m---> 18\u001b[1;33m \u001b[0mfowl\u001b[0m\u001b[1;33m.\u001b[0m\u001b[0mname\u001b[0m\u001b[1;33m\u001b[0m\u001b[1;33m\u001b[0m\u001b[0m\n\u001b[0m",
      "\u001b[1;32m<ipython-input-30-755a8c51470c>\u001b[0m in \u001b[0;36mname\u001b[1;34m(self)\u001b[0m\n\u001b[0;32m      8\u001b[0m     \u001b[1;32mdef\u001b[0m \u001b[0mname\u001b[0m\u001b[1;33m(\u001b[0m\u001b[0mself\u001b[0m\u001b[1;33m)\u001b[0m\u001b[1;33m:\u001b[0m\u001b[1;33m\u001b[0m\u001b[1;33m\u001b[0m\u001b[0m\n\u001b[0;32m      9\u001b[0m         \u001b[0mprint\u001b[0m\u001b[1;33m(\u001b[0m\u001b[1;34m'inside the getter'\u001b[0m\u001b[1;33m)\u001b[0m\u001b[1;33m\u001b[0m\u001b[1;33m\u001b[0m\u001b[0m\n\u001b[1;32m---> 10\u001b[1;33m         \u001b[1;32mreturn\u001b[0m \u001b[0mself\u001b[0m\u001b[1;33m.\u001b[0m\u001b[0m__name\u001b[0m\u001b[1;33m\u001b[0m\u001b[1;33m\u001b[0m\u001b[0m\n\u001b[0m\u001b[0;32m     11\u001b[0m     \u001b[1;33m@\u001b[0m\u001b[0mname\u001b[0m\u001b[1;33m.\u001b[0m\u001b[0msetter\u001b[0m \u001b[1;31m#裝飾器裡面有：(@name，一個特性(@property)的裡面的)(setter，一個特性「定義」的設定)\u001b[0m\u001b[1;33m\u001b[0m\u001b[1;33m\u001b[0m\u001b[0m\n\u001b[0;32m     12\u001b[0m     \u001b[1;32mdef\u001b[0m \u001b[0mname\u001b[0m\u001b[1;33m(\u001b[0m\u001b[0mself\u001b[0m\u001b[1;33m,\u001b[0m \u001b[0minput_name\u001b[0m\u001b[1;33m)\u001b[0m\u001b[1;33m:\u001b[0m \u001b[1;31m#name方法中的hidden_name是一個類別裡面的經過計算而得的特性\u001b[0m\u001b[1;33m\u001b[0m\u001b[1;33m\u001b[0m\u001b[0m\n",
      "\u001b[1;31mAttributeError\u001b[0m: 'Duck' object has no attribute '_Duck__name'"
     ]
    }
   ],
   "source": [
    "# 我們來將hidden_name改成__name，如下：\n",
    "\n",
    "# 錯誤的示範，如下：\n",
    "class Duck():\n",
    "    def __init__(self, input_name):\n",
    "        self.hidden_name = input_name #<<<<<<<<<<<<<<<<<<<<<<<<- hidden_name沒有改掉\n",
    "    @property\n",
    "    def name(self):\n",
    "        print('inside the getter')\n",
    "        return self.__name\n",
    "    @name.setter #裝飾器裡面有：(@name，一個特性(@property)的裡面的)(setter，一個特性「定義」的設定)\n",
    "    def name(self, input_name): #name方法中的hidden_name是一個類別裡面的經過計算而得的特性\n",
    "        print('inside the setter')\n",
    "        self.__name = input_name  \n",
    "        \n",
    "# 花點時間查看一下結果是不是正確的：\n",
    "fowl = Duck('Howard')\n",
    "fowl.name"
   ]
  },
  {
   "cell_type": "code",
   "execution_count": 32,
   "metadata": {},
   "outputs": [
    {
     "name": "stdout",
     "output_type": "stream",
     "text": [
      "inside the getter\n"
     ]
    },
    {
     "data": {
      "text/plain": [
       "'Howard'"
      ]
     },
     "execution_count": 32,
     "metadata": {},
     "output_type": "execute_result"
    }
   ],
   "source": [
    "# 正確的版本\n",
    "\n",
    "class Duck():\n",
    "    def __init__(self, input_name):\n",
    "        self.__name = input_name\n",
    "    @property\n",
    "    def name(self):\n",
    "        print('inside the getter')\n",
    "        return self.__name\n",
    "    @name.setter #裝飾器裡面有：(@name，一個特性(@property)的裡面的)(setter，一個特性「定義」的設定)\n",
    "    def name(self, input_name): #name方法中的hidden_name是一個類別裡面的經過計算而得的特性\n",
    "        print('inside the setter')\n",
    "        self.__name = input_name  \n",
    "\n",
    "# 花點時間查看一下結果是不是正確的：\n",
    "fowl = Duck('Howard')\n",
    "fowl.name"
   ]
  },
  {
   "cell_type": "code",
   "execution_count": 33,
   "metadata": {},
   "outputs": [
    {
     "name": "stdout",
     "output_type": "stream",
     "text": [
      "inside the setter\n",
      "inside the getter\n"
     ]
    },
    {
     "data": {
      "text/plain": [
       "'Howard'"
      ]
     },
     "execution_count": 33,
     "metadata": {},
     "output_type": "execute_result"
    }
   ],
   "source": [
    "fowl.name = 'Howard'\n",
    "fowl.name"
   ]
  },
  {
   "cell_type": "code",
   "execution_count": 34,
   "metadata": {},
   "outputs": [
    {
     "ename": "AttributeError",
     "evalue": "'Duck' object has no attribute '__name'",
     "output_type": "error",
     "traceback": [
      "\u001b[1;31m---------------------------------------------------------------------------\u001b[0m",
      "\u001b[1;31mAttributeError\u001b[0m                            Traceback (most recent call last)",
      "\u001b[1;32m<ipython-input-34-f9ca5d2f1665>\u001b[0m in \u001b[0;36m<module>\u001b[1;34m\u001b[0m\n\u001b[0;32m      1\u001b[0m \u001b[1;31m# 看起來很好，而且我們無法存取__name屬性：\u001b[0m\u001b[1;33m\u001b[0m\u001b[1;33m\u001b[0m\u001b[1;33m\u001b[0m\u001b[0m\n\u001b[1;32m----> 2\u001b[1;33m \u001b[0mfowl\u001b[0m\u001b[1;33m.\u001b[0m\u001b[0m__name\u001b[0m\u001b[1;33m\u001b[0m\u001b[1;33m\u001b[0m\u001b[0m\n\u001b[0m",
      "\u001b[1;31mAttributeError\u001b[0m: 'Duck' object has no attribute '__name'"
     ]
    }
   ],
   "source": [
    "# 看起來很好，而且我們無法存取__name屬性：\n",
    "fowl.__name"
   ]
  },
  {
   "cell_type": "code",
   "execution_count": 39,
   "metadata": {},
   "outputs": [
    {
     "data": {
      "text/plain": [
       "'Howard'"
      ]
     },
     "execution_count": 39,
     "metadata": {},
     "output_type": "execute_result"
    }
   ],
   "source": [
    "# 那麼，Python到底把名稱弄亂成甚麼樣子呢?\n",
    "fowl._Duck__name\n",
    "\n",
    "# 注意，它並未在getter內印出\n",
    "# 雖然這不是很完美的保護方式，但弄亂名稱可以防止有人不小心或故意直接存取屬性 !"
   ]
  },
  {
   "cell_type": "markdown",
   "metadata": {},
   "source": [
    "### 方法類型\n",
    "有些資料 (屬性) 與函式 (方法) 是類別本身的一部分，有些是類別建立的物件的一部分 <br><br>\n",
    "當我們在類別定義裡面看到初始的self引數時，它是一個「實例方法」<br>\n",
    "「實例方法」是我們在製作自己的類別時，經常編寫的方法類型。<br>\n",
    "「實例方法」的第一個參數是self，當我們呼叫方法時，Python會將物件傳給他!"
   ]
  },
  {
   "cell_type": "markdown",
   "metadata": {},
   "source": [
    "相較之下<br>\n",
    "「類別方法」會引響整個類別。<br>\n",
    "我們對類別所做的任何修改，都會影響它的所有物件。<br>\n",
    "在類別定義中，@classmethod裝飾器說明接下來的函式是一個「類別方法」<br><br>\n",
    "同樣的，方法的第一個參數是類別本身<br>\n",
    "傳統上，Python會將這個參數稱為「cls」<br>\n",
    "因為class是保留字，不能再這裡使用。"
   ]
  },
  {
   "cell_type": "code",
   "execution_count": 61,
   "metadata": {},
   "outputs": [],
   "source": [
    "# 我們來為A定義一個「類別方法」\n",
    "# 用它來計算這個類別已經建立多少個物件實例了\n",
    "class A():\n",
    "    count = 0\n",
    "    def __init__(self): # 此函式是一個「實例方法」，當我們呼叫方法時，Python會將物件傳給他\n",
    "        A.count  += 1\n",
    "    def exclaim(self): # 此函式是一個「實例方法」，當我們呼叫方法時，Python會將物件傳給他\n",
    "        print(\"I'm an A!\")\n",
    "    @classmethod\n",
    "    def kid(cls): # 此函式是一個「類別方法」，我們對類別所做的任何修改，都會影響它的所有物件。\n",
    "        print(\"A has\", cls.count, 'little objects.')"
   ]
  },
  {
   "cell_type": "code",
   "execution_count": 62,
   "metadata": {},
   "outputs": [
    {
     "name": "stdout",
     "output_type": "stream",
     "text": [
      "A has 3 little objects.\n"
     ]
    }
   ],
   "source": [
    "easy_a = A()\n",
    "breezy_a = A()\n",
    "wheezy_a = A()\n",
    "A.kid()\n",
    "\n",
    "###### 注意 #######\n",
    "# 我們使用A.count( 類別屬性 )\n",
    "# 而不是self.count( 物件實例屬性 )\n",
    "# 在kid()方法中，我們使用cls.count，但也可以使用A.count"
   ]
  },
  {
   "cell_type": "code",
   "execution_count": 63,
   "metadata": {},
   "outputs": [],
   "source": [
    "# 三種類別定義式中的方法類型不會影響類別與它的物件\n",
    "# 它只是為了方便才待在那裡\n",
    "# 它是「靜態方法」\n",
    "\n",
    "# 以@staticmethod裝飾器開頭，沒有原本的self或class(cls)參數\n",
    "# 以下是CoyoteWeapon類別的廣告範例：\n",
    "\n",
    "class CoyoteWeapon():\n",
    "    @staticmethod\n",
    "    def commercial():\n",
    "        print('This CoyoteWeapon has been brought to you by Acme')"
   ]
  },
  {
   "cell_type": "code",
   "execution_count": 64,
   "metadata": {},
   "outputs": [
    {
     "name": "stdout",
     "output_type": "stream",
     "text": [
      "This CoyoteWeapon has been brought to you by Acme\n"
     ]
    }
   ],
   "source": [
    "CoyoteWeapon.commercial()\n",
    "\n",
    "#### 注意 ####\n",
    "# 我們不需要建立 CoyoteWeapon 類別的物件，就可以存取這個方法。非常的特別( 類別 )。"
   ]
  },
  {
   "cell_type": "markdown",
   "metadata": {},
   "source": [
    "### 特殊方法\n",
    "我們已經知道怎麼使用基本物件了，不過我們要更深入探討，如：<br>\n",
    "當我們出入a = 3 + 8這類東西時，值為3與8的整數物件該如何知道怎麼做加法( + )?<br>\n",
    "另外，a如何知道該怎麼用 = 來得到結果? <br>\n",
    "我們可以將這些運算子叫做Python的「特殊方法」或「魔術方法」"
   ]
  },
  {
   "cell_type": "markdown",
   "metadata": {},
   "source": [
    "這些方法名稱的開頭與結尾都用雙底線( __ )。<br>\n",
    "我們已經看過一個了： __ init __ 會用它的類別定義與被傳入的引數，來初始化並建立一個物件<br><br>"
   ]
  },
  {
   "cell_type": "code",
   "execution_count": 65,
   "metadata": {},
   "outputs": [],
   "source": [
    "# 假設我們有一個簡單的Word類別，我們想用equals()方法來比較兩個單字\n",
    "# 但忽略大小寫\n",
    "# 也就是說，一個含有'ha'的Word(由類別所定義的物件)，將會被當成與含有'HA'的字串相同\n"
   ]
  },
  {
   "cell_type": "code",
   "execution_count": 66,
   "metadata": {},
   "outputs": [],
   "source": [
    "# 以下是我們的第一個範例\n",
    "# 裡面有一個一般的方法，稱為equals()，self.text是Word(由類別所定義的物件)裡面的文字字串\n",
    "# equals()方法會將它與word2的文字字串比較(另外一個Word物件)：\n",
    "class Word():\n",
    "    def __init__(self, text):\n",
    "        self.text = text\n",
    "        \n",
    "    def equals(self, word2):\n",
    "        return self.text.lower() == word2.text.lower()"
   ]
  },
  {
   "cell_type": "code",
   "execution_count": 67,
   "metadata": {},
   "outputs": [],
   "source": [
    "# 接下來，用三個不同的文字字串來製作三個Word物件：\n",
    "first = Word('ha')\n",
    "second = Word('HA')\n",
    "third = Word('eh')"
   ]
  },
  {
   "cell_type": "code",
   "execution_count": 69,
   "metadata": {},
   "outputs": [
    {
     "data": {
      "text/plain": [
       "True"
      ]
     },
     "execution_count": 69,
     "metadata": {},
     "output_type": "execute_result"
    }
   ],
   "source": [
    "# 當我們比較'ha'與'HA'時，他們會是相等的：\n",
    "first.equals(second)"
   ]
  },
  {
   "cell_type": "code",
   "execution_count": 71,
   "metadata": {},
   "outputs": [
    {
     "data": {
      "text/plain": [
       "False"
      ]
     },
     "execution_count": 71,
     "metadata": {},
     "output_type": "execute_result"
    }
   ],
   "source": [
    "# 但是字串'eh'與'ha'不是相等的!\n",
    "first.equals(third)"
   ]
  },
  {
   "cell_type": "code",
   "execution_count": 72,
   "metadata": {},
   "outputs": [],
   "source": [
    "# 我們將equlas()方法改成特殊名稱 __eq__()： ( why→ )\n",
    "class Word():\n",
    "    def __init__(self, text):\n",
    "        self.text = text\n",
    "        \n",
    "    def __eq__(self, word2):\n",
    "        return self.text.lower() == word2.text.lower()"
   ]
  },
  {
   "cell_type": "code",
   "execution_count": 77,
   "metadata": {},
   "outputs": [
    {
     "name": "stdout",
     "output_type": "stream",
     "text": [
      "True\n",
      "False\n"
     ]
    }
   ],
   "source": [
    "# 能否運作\n",
    "first = Word('ha')\n",
    "second = Word('HA')\n",
    "third = Word('eh')\n",
    "print(first == second)\n",
    "print(first == third)"
   ]
  },
  {
   "cell_type": "code",
   "execution_count": 78,
   "metadata": {},
   "outputs": [],
   "source": [
    "# 見證魔法了!\n",
    "# 要測試相等與否\n",
    "# 我們只要用Python的特殊方法名稱__eq__就可以了"
   ]
  },
  {
   "cell_type": "markdown",
   "metadata": {},
   "source": [
    "##### 比較魔術方法和數學魔術方法\n",
    "![比較魔術方法和數學魔術方法](method.PNG) <br>\n"
   ]
  },
  {
   "cell_type": "markdown",
   "metadata": {},
   "source": [
    "### 組合\n",
    "當我們希望子類別的動作大都與它的父類別相同時<br>\n",
    "(當子 is-a 父)時，繼承是一種很棒的技術<br>\n",
    "但是有何使用組合( composition ) 或 聚合( aggregation )較合理 <br>\n",
    "e.g. (鴨子 is-a 鳥類，但 has-a 尾巴) <br>\n",
    "尾巴不是鴨子的實例，卻是鴨子的一部分(特性)"
   ]
  },
  {
   "cell_type": "code",
   "execution_count": 86,
   "metadata": {},
   "outputs": [],
   "source": [
    "# 我們來製作bill與tail物件，並將他們提供給新的duck物件：\n",
    "class Bill():\n",
    "    def __init__(self, description):\n",
    "        self.description = description\n",
    "class Tail():\n",
    "    def __init__(self, length):\n",
    "        self.length = length\n",
    "class Duck():\n",
    "    def __init__(self, bill, tail):\n",
    "        self.bill = bill\n",
    "        self.tail = tail\n",
    "    def about(self):\n",
    "        print('This duck has a', self.bill.description, 'bill and a', \n",
    "             self.tail.length, 'tail')"
   ]
  },
  {
   "cell_type": "code",
   "execution_count": 91,
   "metadata": {},
   "outputs": [
    {
     "name": "stdout",
     "output_type": "stream",
     "text": [
      "<bound method Duck.about of <__main__.Duck object at 0x000002D267B09080>>\n",
      "This duck has a wide orange bill and a long tail\n"
     ]
    }
   ],
   "source": [
    "# 檢查可否執行\n",
    "tail = Tail('long')\n",
    "bill = Bill('wide orange')\n",
    "duck = Duck(bill, tail)\n",
    "print(duck.about) #印出duck物件的about屬性的記憶體位置\n",
    "duck.about()"
   ]
  },
  {
   "cell_type": "markdown",
   "metadata": {},
   "source": [
    "### 使用類別與物件 V.S 模組的時機\n",
    "![使用類別與物件 V.S 模組的時機](choice_time.PNG) <br>"
   ]
  },
  {
   "cell_type": "markdown",
   "metadata": {},
   "source": [
    "### 具名Tuple\n",
    "具名Tuple是tuple的一個子類別<br>\n",
    "其中，你可以用名稱(使用 .name)，以及位置(使用 offset)來存取值"
   ]
  },
  {
   "cell_type": "code",
   "execution_count": 92,
   "metadata": {},
   "outputs": [],
   "source": [
    "# 我們將之前範例的Duck類別轉換成具名tuple\n",
    "# 使用bill與tail來作為簡單的字串屬性\n",
    "\n",
    "# 我們在呼叫namedtuple時會用到兩個引數：\n",
    "# 名稱\n",
    "# 欄位名稱字串，以空格分開"
   ]
  },
  {
   "cell_type": "code",
   "execution_count": 111,
   "metadata": {},
   "outputs": [
    {
     "name": "stdout",
     "output_type": "stream",
     "text": [
      "Duck(bill_1='wide white', tail_1='short')\n",
      "wide white , short\n"
     ]
    }
   ],
   "source": [
    "# Python並不會自動提供具名tuple\n",
    "# 所以在使用他們之前，我們必須先載入一個模組\n",
    "\n",
    "from collections import namedtuple\n",
    "Duck = namedtuple('Duck', 'bill_1 tail_1') #具名tuple\n",
    "duck = Duck('wide white', 'short') \n",
    "print(duck)\n",
    "print(duck.bill_1, ',', duck.tail_1)"
   ]
  },
  {
   "cell_type": "code",
   "execution_count": 117,
   "metadata": {},
   "outputs": [
    {
     "name": "stdout",
     "output_type": "stream",
     "text": [
      "Duck(bill_1='wide blue', tail_1='short')\n",
      "Duck(bill_1='wide orange', tail_1='long')\n"
     ]
    }
   ],
   "source": [
    "# 我們也可以用字典來製作具名tuple：\n",
    "parts = {'bill_1': 'wide blue', 'tail_1': 'short'} #關鍵字搜尋功能\n",
    "duck2 = Duck(**parts) #具名tuple\n",
    "print(duck2)\n",
    "\n",
    "# 此例中，**parts是一個關鍵字引數\n",
    "# 它會取出部分的字典key與value\n",
    "# 並將他們當成引數傳給Duck()\n",
    "# 它的效果相當於：\n",
    "duck = Duck(bill_1= 'wide orange', tail_1 = 'long')\n",
    "print(duck)"
   ]
  },
  {
   "cell_type": "code",
   "execution_count": 121,
   "metadata": {},
   "outputs": [
    {
     "data": {
      "text/plain": [
       "Duck(bill_1='crushing', tail_1='magnificent')"
      ]
     },
     "execution_count": 121,
     "metadata": {},
     "output_type": "execute_result"
    }
   ],
   "source": [
    "# 具名tuple是不可變的，但我們可以更換一或多個欄位\n",
    "# 並回傳另一個具名tuple：\n",
    "duck3 = duck2._replace(tail_1 = 'magnificent', bill_1 = 'crushing')\n",
    "duck3"
   ]
  },
  {
   "cell_type": "code",
   "execution_count": 122,
   "metadata": {},
   "outputs": [
    {
     "data": {
      "text/plain": [
       "{'bill': 'wide green', 'tail': 'middle'}"
      ]
     },
     "execution_count": 122,
     "metadata": {},
     "output_type": "execute_result"
    }
   ],
   "source": [
    "# 我們也可以將duck定義為字典：\n",
    "duck_dict = {'bill': 'wide green', 'tail': 'middle'}\n",
    "duck_dict"
   ]
  },
  {
   "cell_type": "code",
   "execution_count": 123,
   "metadata": {},
   "outputs": [
    {
     "data": {
      "text/plain": [
       "{'bill': 'wide green', 'tail': 'middle', 'color': 'grey'}"
      ]
     },
     "execution_count": 123,
     "metadata": {},
     "output_type": "execute_result"
    }
   ],
   "source": [
    "# 我們可以將欄位加入字典：\n",
    "duck_dict['color'] = 'grey'\n",
    "duck_dict"
   ]
  },
  {
   "cell_type": "code",
   "execution_count": 125,
   "metadata": {},
   "outputs": [
    {
     "ename": "AttributeError",
     "evalue": "'Duck' object has no attribute 'color'",
     "output_type": "error",
     "traceback": [
      "\u001b[1;31m---------------------------------------------------------------------------\u001b[0m",
      "\u001b[1;31mAttributeError\u001b[0m                            Traceback (most recent call last)",
      "\u001b[1;32m<ipython-input-125-8718f06a8f87>\u001b[0m in \u001b[0;36m<module>\u001b[1;34m\u001b[0m\n\u001b[0;32m      1\u001b[0m \u001b[1;31m# 而不是加到具名tuple(因為具名tuple是唯讀的)：\u001b[0m\u001b[1;33m\u001b[0m\u001b[1;33m\u001b[0m\u001b[1;33m\u001b[0m\u001b[0m\n\u001b[1;32m----> 2\u001b[1;33m \u001b[0mduck\u001b[0m\u001b[1;33m.\u001b[0m\u001b[0mcolor\u001b[0m \u001b[1;33m=\u001b[0m \u001b[1;34m'gray'\u001b[0m\u001b[1;33m\u001b[0m\u001b[1;33m\u001b[0m\u001b[0m\n\u001b[0m",
      "\u001b[1;31mAttributeError\u001b[0m: 'Duck' object has no attribute 'color'"
     ]
    }
   ],
   "source": [
    "# 而不是加到具名tuple(因為具名tuple是唯讀的)：\n",
    "duck.color = 'gray'"
   ]
  },
  {
   "cell_type": "markdown",
   "metadata": {},
   "source": [
    "#### 以下是具名tuple的優點：\n",
    "> 它的外觀與行為都像個不可變的物件 <br>\n",
    "> 它比物件更節省空間與時間 <br>\n",
    "> 我們可以用據點標記法取代字典型式的方括號來存取屬性 <br>\n",
    "> 我們可以將它當成字典中的key來使用"
   ]
  },
  {
   "cell_type": "code",
   "execution_count": null,
   "metadata": {},
   "outputs": [],
   "source": []
  }
 ],
 "metadata": {
  "kernelspec": {
   "display_name": "Python 3",
   "language": "python",
   "name": "python3"
  },
  "language_info": {
   "codemirror_mode": {
    "name": "ipython",
    "version": 3
   },
   "file_extension": ".py",
   "mimetype": "text/x-python",
   "name": "python",
   "nbconvert_exporter": "python",
   "pygments_lexer": "ipython3",
   "version": "3.6.8"
  }
 },
 "nbformat": 4,
 "nbformat_minor": 2
}
