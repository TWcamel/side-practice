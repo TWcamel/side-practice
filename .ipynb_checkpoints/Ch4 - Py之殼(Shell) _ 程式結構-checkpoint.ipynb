{
 "cells": [
  {
   "cell_type": "code",
   "execution_count": 38,
   "metadata": {},
   "outputs": [
    {
     "name": "stdout",
     "output_type": "stream",
     "text": [
      "abcdfghjiklmn \n",
      " \n",
      " ----\n",
      "12345 \n",
      " \n",
      " ----\n"
     ]
    }
   ],
   "source": [
    "##用反斜線(\\)來延續多行\n",
    "alphabet = ''\n",
    "alphabet += 'abcdfg'\n",
    "alphabet += 'hjiklmn'\n",
    "print(alphabet,'\\n','\\n','----')\n",
    "a = '1' + '2' + '3' + \\\n",
    "    '4' + '5'\n",
    "print(a,'\\n','\\n','----')\n",
    "\n"
   ]
  },
  {
   "cell_type": "code",
   "execution_count": 40,
   "metadata": {},
   "outputs": [
    {
     "name": "stdout",
     "output_type": "stream",
     "text": [
      "True\n"
     ]
    }
   ],
   "source": [
    "##布林運算子的優先順序要比較的程式段落要低\n",
    "#也就是說程式段落會先被計算，再做比較\n",
    "x = 7\n",
    "print(5 < x  and x < 10)\n"
   ]
  },
  {
   "cell_type": "code",
   "execution_count": 41,
   "metadata": {},
   "outputs": [
    {
     "name": "stdout",
     "output_type": "stream",
     "text": [
      "bad!\n"
     ]
    }
   ],
   "source": [
    "##甚麼是True?\n",
    "#例如，以下都會被視為False\n",
    "#boolen    False\n",
    "#null      None\n",
    "#整數零    0\n",
    "#浮點數零  0\n",
    "#空字串    ''\n",
    "#空串列    []\n",
    "#空tuple   ()\n",
    "#空字典    {}\n",
    "#空集合    set()\n",
    "\n",
    "some_list = []\n",
    "if some_list:\n",
    "    print('good!')\n",
    "else:\n",
    "    print('bad!')"
   ]
  },
  {
   "cell_type": "code",
   "execution_count": 42,
   "metadata": {},
   "outputs": [
    {
     "name": "stdout",
     "output_type": "stream",
     "text": [
      "1\n",
      "2\n",
      "3\n",
      "4\n",
      "5\n"
     ]
    }
   ],
   "source": [
    "##用While來重複執行(這是python中最簡單的迴圈)\n",
    "count = 1\n",
    "while count <= 5:\n",
    "    print(count)\n",
    "    count += 1"
   ]
  },
  {
   "cell_type": "code",
   "execution_count": 44,
   "metadata": {},
   "outputs": [
    {
     "name": "stdout",
     "output_type": "stream",
     "text": [
      "String to capitalize [type q to quit]hey it work\n",
      "Hey it work\n",
      "String to capitalize [type q to quit]test\n",
      "Test\n",
      "String to capitalize [type q to quit]good\n",
      "Good\n",
      "String to capitalize [type q to quit]q\n"
     ]
    }
   ],
   "source": [
    "##用break來取消\n",
    "#若希望while(迴圈)在發生某個情況時可以停止，但不知道甚麼時候發生\n",
    "#可以使用無窮迴圈以及一個braek陳述式\n",
    "while True:\n",
    "    stuff = input('String to capitalize [type q to quit]')\n",
    "    if stuff == 'q':\n",
    "        break\n",
    "    print(stuff.capitalize())\n"
   ]
  },
  {
   "cell_type": "code",
   "execution_count": 65,
   "metadata": {},
   "outputs": [
    {
     "name": "stdout",
     "output_type": "stream",
     "text": [
      "Integer, please [q to quite]q\n",
      "\n",
      " \n",
      " ---- 當前字母 : P\n",
      "\n",
      " \n",
      " ---- 當前字母 : y\n",
      "\n",
      " \n",
      " ---- 當前字母 : t\n",
      "\n",
      " \n",
      " ---- 當前字母 : o\n",
      "\n",
      " \n",
      " ---- 當前字母 : n\n"
     ]
    }
   ],
   "source": [
    "##用continue來跳過\n",
    "#適用於不想跳出迴圈，只想跳過這次的iter(迭代)\n",
    "while True:\n",
    "    value = input('Integer, please [q to quite]')\n",
    "    if value == 'q': #quite\n",
    "        break\n",
    "    number = int(value)\n",
    "    if number % 2 == 0: # an even number\n",
    "        continue   \n",
    "    print(number, 'square is', number*number)\n",
    "    \n",
    "for letter in 'Python':     \n",
    "    if letter == 'h':\n",
    "        continue\n",
    "    print('\\n','\\n','----', '當前字母 :', letter)"
   ]
  },
  {
   "cell_type": "code",
   "execution_count": 63,
   "metadata": {},
   "outputs": [
    {
     "name": "stdout",
     "output_type": "stream",
     "text": [
      "No even number found\n"
     ]
    }
   ],
   "source": [
    "##else來檢查中斷\n",
    "#若while正常結束(沒有呼叫break陳述式)，控制權會傳給一個選用的else\n",
    "#可以把else想成[中斷檢查器(break checker)]\n",
    "numbers = [1, 3, 5]\n",
    "position = 0\n",
    "while position < len(numbers):\n",
    "    number = numbers[position]\n",
    "    if number % 2 == 0:\n",
    "        print('Found even number', number)\n",
    "        break\n",
    "    position += 1\n",
    "else: #break not called\n",
    "    print('No even number found')"
   ]
  },
  {
   "cell_type": "code",
   "execution_count": null,
   "metadata": {},
   "outputs": [],
   "source": []
  }
 ],
 "metadata": {
  "kernelspec": {
   "display_name": "Python 3",
   "language": "python",
   "name": "python3"
  },
  "language_info": {
   "codemirror_mode": {
    "name": "ipython",
    "version": 3
   },
   "file_extension": ".py",
   "mimetype": "text/x-python",
   "name": "python",
   "nbconvert_exporter": "python",
   "pygments_lexer": "ipython3",
   "version": "3.6.8"
  }
 },
 "nbformat": 4,
 "nbformat_minor": 2
}
