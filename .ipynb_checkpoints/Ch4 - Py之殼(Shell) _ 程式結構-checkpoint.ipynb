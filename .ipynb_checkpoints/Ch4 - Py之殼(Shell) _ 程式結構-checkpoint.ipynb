{
 "cells": [
  {
   "cell_type": "markdown",
   "metadata": {},
   "source": [
    "### 用反斜線來延續多行"
   ]
  },
  {
   "cell_type": "code",
   "execution_count": 28,
   "metadata": {},
   "outputs": [
    {
     "name": "stdout",
     "output_type": "stream",
     "text": [
      "abcdfghjiklmn \n",
      " \n",
      " ----\n",
      "12345 \n",
      " \n",
      " ----\n"
     ]
    }
   ],
   "source": [
    "### 用反斜線(\\)來延續多行\n",
    "alphabet = ''\n",
    "alphabet += 'abcdfg'\n",
    "alphabet += 'hjiklmn'\n",
    "print(alphabet,'\\n','\\n','----')\n",
    "a = '1' + '2' + '3' + \\\n",
    "    '4' + '5'\n",
    "print(a,'\\n','\\n','----')\n",
    "\n"
   ]
  },
  {
   "cell_type": "code",
   "execution_count": 29,
   "metadata": {},
   "outputs": [
    {
     "name": "stdout",
     "output_type": "stream",
     "text": [
      "True\n"
     ]
    }
   ],
   "source": [
    "##布林運算子的優先順序要比較的程式段落要低\n",
    "#也就是說程式段落會先被計算，再做比較\n",
    "x = 7\n",
    "print(5 < x  and x < 10)\n"
   ]
  },
  {
   "cell_type": "markdown",
   "metadata": {},
   "source": [
    "### 甚麼是True?"
   ]
  },
  {
   "cell_type": "code",
   "execution_count": 30,
   "metadata": {},
   "outputs": [
    {
     "name": "stdout",
     "output_type": "stream",
     "text": [
      "bad!\n"
     ]
    }
   ],
   "source": [
    "##甚麼是True?\n",
    "#例如，以下都會被視為False\n",
    "#boolen    False\n",
    "#null      None\n",
    "#整數零    0\n",
    "#浮點數零  0\n",
    "#空字串    ''\n",
    "#空串列    []\n",
    "#空tuple   ()\n",
    "#空字典    {}\n",
    "#空集合    set()\n",
    "\n",
    "some_list = []\n",
    "if some_list:\n",
    "    print('good!')\n",
    "else:\n",
    "    print('bad!')"
   ]
  },
  {
   "cell_type": "markdown",
   "metadata": {},
   "source": [
    "### 用While來重複執行 "
   ]
  },
  {
   "cell_type": "code",
   "execution_count": 31,
   "metadata": {},
   "outputs": [
    {
     "name": "stdout",
     "output_type": "stream",
     "text": [
      "1\n",
      "2\n",
      "3\n",
      "4\n",
      "5\n"
     ]
    }
   ],
   "source": [
    "##用While來重複執行(這是python中最簡單的迴圈)\n",
    "count = 1\n",
    "while count <= 5:\n",
    "    print(count)\n",
    "    count += 1"
   ]
  },
  {
   "cell_type": "markdown",
   "metadata": {},
   "source": [
    "### 用break來取消"
   ]
  },
  {
   "cell_type": "code",
   "execution_count": 32,
   "metadata": {},
   "outputs": [
    {
     "name": "stdout",
     "output_type": "stream",
     "text": [
      "String to capitalize [type q to quit]q\n"
     ]
    }
   ],
   "source": [
    "##用break來取消\n",
    "#若希望while(迴圈)在發生某個情況時可以停止，但不知道甚麼時候發生\n",
    "#可以使用無窮迴圈以及一個braek陳述式\n",
    "while True:\n",
    "    stuff = input('String to capitalize [type q to quit]')\n",
    "    if stuff == 'q':\n",
    "        break\n",
    "    print(stuff.capitalize())\n"
   ]
  },
  {
   "cell_type": "markdown",
   "metadata": {},
   "source": [
    "### 用continue來跳過"
   ]
  },
  {
   "cell_type": "code",
   "execution_count": 33,
   "metadata": {},
   "outputs": [
    {
     "name": "stdout",
     "output_type": "stream",
     "text": [
      "Integer, please [q to quite]q\n",
      "\n",
      " \n",
      " ---- 當前字母 : P\n",
      "\n",
      " \n",
      " ---- 當前字母 : y\n",
      "\n",
      " \n",
      " ---- 當前字母 : t\n",
      "\n",
      " \n",
      " ---- 當前字母 : o\n",
      "\n",
      " \n",
      " ---- 當前字母 : n\n"
     ]
    }
   ],
   "source": [
    "##用continue來跳過\n",
    "#適用於不想跳出迴圈，只想跳過這次的iter(迭代)\n",
    "while True:\n",
    "    value = input('Integer, please [q to quite]')\n",
    "    if value == 'q': #quite\n",
    "        break\n",
    "    number = int(value)\n",
    "    if number % 2 == 0: # an even number\n",
    "        continue   \n",
    "    print(number, 'square is', number*number)\n",
    "    \n",
    "for letter in 'Python':     \n",
    "    if letter == 'h':\n",
    "        continue\n",
    "    print('\\n','\\n','----', '當前字母 :', letter)"
   ]
  },
  {
   "cell_type": "markdown",
   "metadata": {},
   "source": [
    "### 用else來檢查中斷"
   ]
  },
  {
   "cell_type": "code",
   "execution_count": 34,
   "metadata": {},
   "outputs": [
    {
     "name": "stdout",
     "output_type": "stream",
     "text": [
      "No even number found\n"
     ]
    }
   ],
   "source": [
    "##else來檢查中斷\n",
    "#若while正常結束(沒有呼叫break陳述式)，控制權會傳給一個選用的else\n",
    "#可以把else想成[中斷檢查器(break checker)]\n",
    "numbers = [1, 3, 5]\n",
    "position = 0\n",
    "while position < len(numbers):\n",
    "    number = numbers[position]\n",
    "    if number % 2 == 0:\n",
    "        print('Found even number', number)\n",
    "        break\n",
    "    position += 1\n",
    "else: #break not called\n",
    "    print('No even number found')"
   ]
  },
  {
   "cell_type": "markdown",
   "metadata": {},
   "source": [
    "### 用for來迭代(iter)\n",
    "其中else可想成尋找某個東西，在沒有找到他的時候，就會呼叫else!\n"
   ]
  },
  {
   "cell_type": "code",
   "execution_count": 35,
   "metadata": {},
   "outputs": [
    {
     "name": "stdout",
     "output_type": "stream",
     "text": [
      "Flospy\n",
      "Mopsy\n",
      "Cottonail\n",
      "Peter\n",
      "\n",
      " \n",
      " ----\n",
      "room \n",
      " \n",
      " ----\n",
      "weapon \n",
      " \n",
      " ----\n",
      "person \n",
      " \n",
      " ----\n",
      "\n",
      " \n",
      " ----\n",
      "ballroom\n",
      "lead pipe\n",
      "Col. Mustard\n",
      "\n",
      " \n",
      " ----\n",
      "('room', 'ballroom')\n",
      "('weapon', 'lead pipe')\n",
      "('person', 'Col. Mustard')\n",
      "\n",
      " \n",
      " ----\n",
      "This shop has some lovely s\n"
     ]
    }
   ],
   "source": [
    "#可以用來iter動態資料，適用於不適合被全部放在電腦記憶體內的資料\"串流(streaming)\"\n",
    "rabbits = ['Flospy', 'Mopsy', 'Cottonail', 'Peter']\n",
    "current = 0\n",
    "while current < len(rabbits):\n",
    "    print(rabbits[current])\n",
    "    current += 1\n",
    "print('\\n','\\n','----')\n",
    "\n",
    "#使用for來迭代dict()\n",
    "accusation = {'room': 'ballroom', \n",
    "              'weapon': 'lead pipe',\n",
    "              'person': 'Col. Mustard'}\n",
    "for card in accusation: #or, for card in accusation.keys()\n",
    "    print(card,'\\n','\\n','----')\n",
    "print('\\n','\\n','----')    \n",
    "for card in accusation.values():\n",
    "    print(card)\n",
    "print('\\n','\\n','----')\n",
    "    \n",
    "#使用for來迭代tuple()\n",
    "for item in accusation.items():\n",
    "    print(item)\n",
    "print('\\n','\\n','----')\n",
    "\n",
    "#使用else來中斷檢查\n",
    "cheeses = ['s', 'm', 'l']\n",
    "for cheese in cheeses:\n",
    "    print('This shop has some lovely', cheese)\n",
    "    break\n",
    "else: #沒有中斷代表沒有乳酪!\n",
    "    print('This is not much of a cheese shop, is it?')"
   ]
  },
  {
   "cell_type": "markdown",
   "metadata": {},
   "source": [
    "### 用zip()來迭代多個序列結構\n",
    "zip()是以並行的方式來迭代多個序列!"
   ]
  },
  {
   "cell_type": "code",
   "execution_count": 36,
   "metadata": {},
   "outputs": [
    {
     "name": "stdout",
     "output_type": "stream",
     "text": [
      "Mon : drink coffee - eat banana\n",
      "Tue : drink tea - eat orange\n",
      "Wen : drink beer - eat apple\n",
      "\n",
      " ---- \n",
      " \n",
      " {'禮拜一': 'Mon', '禮拜二': 'Tue', '禮拜三': 'Wen'}\n"
     ]
    }
   ],
   "source": [
    "days = ['Mon', 'Tue', 'Wen']\n",
    "fruits = ['banana', 'orange', 'apple']\n",
    "drinks = ['coffee', 'tea', 'beer']\n",
    "\n",
    "for day, fruit, drink in zip(days, fruits, drinks):\n",
    "    print(day, \": drink\", drink, '- eat', fruit)\n",
    "    \n",
    "#用zip()來製作一個小型的中英辭典\n",
    "chinese = '禮拜一', '禮拜二', '禮拜三'\n",
    "eng = 'Mon', 'Tue', 'Wen'\n",
    "my_dict = list( zip(chinese, eng))\n",
    "print('\\n','----', '\\n', '\\n', dict(my_dict))"
   ]
  },
  {
   "cell_type": "markdown",
   "metadata": {},
   "source": [
    "### 生成式 \n",
    "開起python風格程式的第一個扉頁 <br>\n",
    "最簡單的串列(list)生成式： [ 運算子 for 項目 in 可迭代項目 ] <br>\n",
    "或是：[ 運算子 for 項目 in 可迭代項目 if 條件式 ] <br>"
   ]
  },
  {
   "cell_type": "code",
   "execution_count": 37,
   "metadata": {},
   "outputs": [
    {
     "name": "stdout",
     "output_type": "stream",
     "text": [
      "[0, 1, 2, 3, 4, 5, 6, 7, 8] \n",
      " \n",
      " ----\n",
      "[0, 1, 2, 3, 4] \n",
      " \n",
      " ----\n",
      "[1, 3, 5, 7, 9]\n",
      "1 1\n",
      "1 2\n",
      "2 1\n",
      "2 2\n",
      "3 1\n",
      "3 2\n",
      "\n",
      " \n",
      " ----\n",
      "(1, 1)\n",
      "(1, 2)\n",
      "(2, 1)\n",
      "(2, 2)\n",
      "(3, 1)\n",
      "(3, 2)\n",
      "\n",
      " \n",
      " ----\n",
      "1 1\n",
      "1 2\n",
      "2 1\n",
      "2 2\n",
      "3 1\n",
      "3 2\n"
     ]
    }
   ],
   "source": [
    "number_list = []\n",
    "for x in range(0,9):\n",
    "    number_list.append(x)\n",
    "print(number_list, '\\n','\\n','----')\n",
    "\n",
    "## [運算子 for 項目 in 可迭代項目]\n",
    "num_list = [number-1 for number in range(1,6)]\n",
    "print(num_list, '\\n','\\n','----')\n",
    "\n",
    "## [ 運算子 for 項目 in 可迭代項目 if 項目的條件式 ] \n",
    "a_list = [number for number in range(0,10) if number % 2 == 1] #odds\n",
    "print(a_list)\n",
    "\n",
    "## 嵌套的迴圈\n",
    "#先嘗試舊的版本\n",
    "rows = range(1,4)\n",
    "cols = range(1,3)\n",
    "for row in rows: # rows*3\n",
    "    for col in cols: # cols*2\n",
    "        print(row, col) # [(rows*3)*2(cols)] * (cols*2)\n",
    "print('\\n','\\n','----')\n",
    "\n",
    "#使用python寫出\n",
    "rows = range(1,4)\n",
    "cols = range(1,3)\n",
    "cells = [(row, col) for row in rows for col in cols]\n",
    "for cell in cells:\n",
    "    print(cell)\n",
    "print('\\n','\\n','----')\n",
    "\n",
    "## 順道一提，當迭代cells串列時，可以使用tuple unpacking\n",
    "# 意思是從每個 tuple 中拉出 row and col 值\n",
    "for row, col in cells:\n",
    "    print(row, col)"
   ]
  },
  {
   "cell_type": "markdown",
   "metadata": {},
   "source": [
    "### dict()生成式\n",
    "最簡單的串列(list)字典生成式： [ key運算子: value運算子 for 運算子 in 可迭代項目 ] <br>\n",
    "此章節示範有誤，複習時可略過!! <br>\n",
    "       "
   ]
  },
  {
   "cell_type": "code",
   "execution_count": 38,
   "metadata": {},
   "outputs": [
    {
     "name": "stdout",
     "output_type": "stream",
     "text": [
      "{'l': 1, 'e': 1, 't': 1, 'r': 1, 's': 1}\n",
      "{'l': 1, 't': 1, 's': 1, 'r': 1, 'e': 1}\n"
     ]
    }
   ],
   "source": [
    "# 對string('letters')的七個字母各別執行迴圈，並計算該字母出現的次數\n",
    "# 使用兩次word.count(letter)對key與value分別迴圈是浪費時間的做法\n",
    "# 因為這樣就必須計算e兩次，t也是兩次\n",
    "\n",
    "word = 'letters'\n",
    "letter_counts = {letter: word.count('letter') for letter in word}\n",
    "print(letter_counts)\n",
    "\n",
    "# 這是python的做法\n",
    "word = 'letterssss'\n",
    "letter_counts = {letter: word.count('letter') for letter in set(word)}\n",
    "print(letter_counts)"
   ]
  },
  {
   "cell_type": "markdown",
   "metadata": {},
   "source": [
    " ### 集合生成式 \n",
    "最簡單的串列(list)集合生成式： {運算式 for 運算式 in 可迭代項目 if 條件式}"
   ]
  },
  {
   "cell_type": "code",
   "execution_count": 39,
   "metadata": {
    "scrolled": true
   },
   "outputs": [
    {
     "name": "stdout",
     "output_type": "stream",
     "text": [
      "{1, 4} , Type: <class 'set'>\n"
     ]
    }
   ],
   "source": [
    "a_set = {number for number in range(0,6) if number % 3 == 1}\n",
    "print(a_set, ',', 'Type:', type(a_set))"
   ]
  },
  {
   "cell_type": "markdown",
   "metadata": {},
   "source": [
    "### 產生器(generator)生成式\n",
    "<!--     <font face = \"微軟正黑體\" size =1 color = #A52A2A > 最簡單的串列(list)集合生成式： {運算式 for 運算式 in 可迭代項目 if 條件式} <br> -->\n",
    "tuple 沒有生成式 ! <br>\n",
    "或許我會想說把串列(list)的方括號[ ]改成括號( )就可以做成tuple生成式"
   ]
  },
  {
   "cell_type": "code",
   "execution_count": 5,
   "metadata": {},
   "outputs": [
    {
     "name": "stdout",
     "output_type": "stream",
     "text": [
      "[1, 2, 3, 4, 5] <class 'list'>\n",
      "<generator object <genexpr> at 0x000001FECEB72678> <class 'generator'>\n",
      "[1, 2, 3, 4, 5, 6, 7] <class 'list'>\n"
     ]
    }
   ],
   "source": [
    "number_thing_list = [number for number in range(1,6)]\n",
    "print(number_thing_list, type(number_thing_list))\n",
    "\n",
    "number_thing_gen = (numbers for numbers in range(1,8))\n",
    "print(number_thing_gen, type(number_thing_gen))\n",
    "\n",
    "# 產生器(generator)只能執行一次。list[], set(), string, dict{}等都會被放在記憶體裡面\n",
    "# 但產生器(generator)會動態產生他的值，並透過迭代器，一次送出一個值。\n",
    "# 產生器(generator)不會記得那些值，所以我們無法重新啟動或備份產生器\n",
    "\n",
    "# 如果試著重新迭代產生器(generator)\n",
    "try_again = list(number_thing_gen)\n",
    "print(try_again, type(try_again))"
   ]
  },
  {
   "cell_type": "markdown",
   "metadata": {},
   "source": [
    "### 函式\n",
    "函式可以做兩件事：定義它、呼叫它"
   ]
  },
  {
   "cell_type": "code",
   "execution_count": 19,
   "metadata": {},
   "outputs": [
    {
     "name": "stdout",
     "output_type": "stream",
     "text": [
      "None \n",
      " \n",
      " ----\n",
      "hru hru\n"
     ]
    }
   ],
   "source": [
    "def do_nothing():\n",
    "    pass\n",
    "print(do_nothing(),'\\n','\\n','----')\n",
    "\n",
    "def echo(anything):\n",
    "    return anything+ ' ' +anything\n",
    "print(echo('hru'))"
   ]
  },
  {
   "cell_type": "markdown",
   "metadata": {},
   "source": [
    "呼叫函數時，傳給他的值稱為「引數」<br>\n",
    "若呼叫函數時沒有使用引數，這些引數的值都會被複製到函式裡面對應的「參數」 <br>\n",
    "上例中， 'hru' 為引數string(字串)，這個值被複製到echo()裡面的參數anything，並回傳給呼叫方"
   ]
  },
  {
   "cell_type": "markdown",
   "metadata": {},
   "source": [
    "### 位置引數\n",
    "python處理函式引數特別靈活，原因之一為引數類型是「 位置引數 」 <br>\n",
    "他們的值會被依序複製到對應的參數!"
   ]
  },
  {
   "cell_type": "code",
   "execution_count": 3,
   "metadata": {},
   "outputs": [
    {
     "data": {
      "text/plain": [
       "{'wine': 'good_drink', 'entree': 'mabo', 'dessert': 'coco'}"
      ]
     },
     "execution_count": 3,
     "metadata": {},
     "output_type": "execute_result"
    }
   ],
   "source": [
    "def menu(wine, entree, dessert):\n",
    "    return({'wine': wine, 'entree': entree, 'dessert': dessert})\n",
    "menu('good_drink', 'mabo', 'coco')"
   ]
  },
  {
   "cell_type": "markdown",
   "metadata": {},
   "source": [
    "### 指定預設參數值\n",
    "\n",
    "預設的引數值會在函式被定義的時候計算，而不是執行的時候\n",
    "也就是說不能使用可變的資料類型(如串列(list)、字典(dict{}))作為預設引數 !"
   ]
  },
  {
   "cell_type": "code",
   "execution_count": 4,
   "metadata": {},
   "outputs": [
    {
     "data": {
      "text/plain": [
       "{'wine': 'good_drink', 'entree': 'mabo', 'dessert': 'pudding'}"
      ]
     },
     "execution_count": 4,
     "metadata": {},
     "output_type": "execute_result"
    }
   ],
   "source": [
    "def menu(wine, entree, dessert = 'pudding'):\n",
    "    return({'wine': wine, 'entree': entree, 'dessert': dessert})\n",
    "menu('good_drink', 'mabo')"
   ]
  },
  {
   "cell_type": "markdown",
   "metadata": {},
   "source": [
    "#### 來做個小練習"
   ]
  },
  {
   "cell_type": "code",
   "execution_count": 7,
   "metadata": {},
   "outputs": [
    {
     "name": "stdout",
     "output_type": "stream",
     "text": [
      "['a']\n",
      "['a', 'b']\n"
     ]
    }
   ],
   "source": [
    "# 我們預期buggy()函式在每次執行時，都會使用一個全新的空字串result，並對它加入arg引數，在印出一個單一項目的串列\n",
    "\n",
    "def buggy(arg, result=[]):\n",
    "    result.append(arg)\n",
    "    print(result)\n",
    "buggy('a')\n",
    "buggy('b')"
   ]
  },
  {
   "cell_type": "code",
   "execution_count": 13,
   "metadata": {},
   "outputs": [
    {
     "name": "stdout",
     "output_type": "stream",
     "text": [
      "['a']\n",
      "['b']\n",
      "\n",
      " \n",
      " ----\n",
      "['a']\n",
      "['b']\n"
     ]
    }
   ],
   "source": [
    "# 可以看到上面結果有一個bug，這個list只有在第一次呼叫的時候是空的。\n",
    "# 在第二次呼叫時，result仍然存有之前呼叫時保留下來的項目\n",
    "\n",
    "#所以我們改寫成以下\n",
    "def works(arg):\n",
    "    result = []\n",
    "    result.append(arg)\n",
    "    return print(result)\n",
    "works('a')\n",
    "works('b')\n",
    "print('\\n','\\n','----')\n",
    "\n",
    "#或是\n",
    "def nonbuggy(arg, result=None):\n",
    "    if result is None:\n",
    "        result = []\n",
    "    result.append(arg)\n",
    "    return print(result)\n",
    "nonbuggy('a')\n",
    "nonbuggy('b')"
   ]
  },
  {
   "cell_type": "markdown",
   "metadata": {},
   "source": [
    "### 用 * 來收集位置引數\n",
    "其他語言中的星號 ( * ) 可能代表指標( pointor )之類的事情，但python中沒有指標( pointor ) !\n",
    "當我們在函式中使用星號時，星號會將可變數量的潛在引數群組化，變成一個參數值的tuple。"
   ]
  },
  {
   "cell_type": "code",
   "execution_count": 5,
   "metadata": {},
   "outputs": [
    {
     "name": "stdout",
     "output_type": "stream",
     "text": [
      "Positional argunment tuple: () <class 'tuple'>\n",
      "Positional argunment tuple: (3, 2, 1, 'wait!', 'uh...') <class 'tuple'>\n"
     ]
    }
   ],
   "source": [
    "# 此例中，args是tuple類型的參數，它是被傳入print_args()函式的引數所產生的\n",
    "def print_args(*args):\n",
    "    print('Positional argunment tuple:', args, type(args))\n",
    "print_args()\n",
    "\n",
    "#如果我們提供引數，它會印成args tuple()\n",
    "print_args(3, 2, 1, 'wait!', 'uh...')\n"
   ]
  },
  {
   "cell_type": "markdown",
   "metadata": {},
   "source": [
    "### 用 ** 來收集位置引數\n",
    "\n",
    "我們也可以運用兩個星號 ( ** )來將關鍵字引數群組化，變成一個字典，其中引數名稱是key，他們的值是對應的dict{}中的value"
   ]
  },
  {
   "cell_type": "code",
   "execution_count": 11,
   "metadata": {},
   "outputs": [
    {
     "name": "stdout",
     "output_type": "stream",
     "text": [
      "Keyword arguments {'wine': 'merlot', 'entree': 'mutton', 'dessert': 'macaroon'}\n"
     ]
    }
   ],
   "source": [
    "def print_kwargs(**kwargs):\n",
    "    print('Keyword arguments', kwargs)\n",
    "print_kwargs(wine='merlot', entree='mutton', dessert='macaroon')\n",
    "\n",
    "#在函式內，kwargs是個dict{}"
   ]
  },
  {
   "cell_type": "markdown",
   "metadata": {},
   "source": [
    "### 文件字串\n",
    "Zen of python 說可讀性必須列入考慮，我們可以將文件指派給函式的定義式，做法是在函式內文的開頭加入一個字串，下列所示為一個文字字串( docstring )："
   ]
  },
  {
   "cell_type": "code",
   "execution_count": 38,
   "metadata": {},
   "outputs": [
    {
     "name": "stdout",
     "output_type": "stream",
     "text": [
      "\n",
      "    我覺得新竹東西好難吃 \n",
      "    而且也不只我這麼覺得\n",
      "    是真的難吃\n",
      "    可惡\n",
      "    \n"
     ]
    }
   ],
   "source": [
    "def echo(anything):\n",
    "    anything = 'echo return it input argument'\n",
    "    return anything\n",
    "echo(4)\n",
    "\n",
    "#我們也可以加入很長的文件字串，甚至加入豐富的格式：\n",
    "def print_if_true(thing, check):\n",
    "    thing='''\n",
    "    我覺得新竹東西好難吃 \n",
    "    而且也不只我這麼覺得\n",
    "    是真的難吃\n",
    "    可惡\n",
    "    '''\n",
    "    if check:\n",
    "        print(thing)\n",
    "        \n",
    "print_if_true(3213,121)"
   ]
  },
  {
   "cell_type": "markdown",
   "metadata": {},
   "source": [
    "### 函式是一等公民\n",
    "python的魔咒：所有東西都是物件，如：數字、字串、tuple、串列、dict{}，包含函式也式。\n",
    "但我們可以指派變數給予函式，把它當成引數傳給其他函式。"
   ]
  },
  {
   "cell_type": "code",
   "execution_count": 16,
   "metadata": {},
   "outputs": [
    {
     "name": "stdout",
     "output_type": "stream",
     "text": [
      "42\n",
      "<class 'NoneType'>\n"
     ]
    }
   ],
   "source": [
    "# 此例中，我們可以看到傳入的不是answer()，而是answer，這代表它式一個物件\n",
    "# 有括號代表「呼叫這些函式」\n",
    "# 沒有括號代表物件\n",
    "\n",
    "def answer():\n",
    "    print(42)\n",
    "def run_something(func):\n",
    "    func()\n",
    "    \n",
    "print(type(run_something(answer)))\n",
    "\n",
    "# 而此例中我們呼叫type()函式，當中函式(也式引數)run_something(answer)傳入函式run_something(func)中\n",
    "# 回傳一個answer()函式，下一步進入該函數並回傳print(42) !!"
   ]
  },
  {
   "cell_type": "markdown",
   "metadata": {},
   "source": [
    "#### 小小練習\n",
    "將上例與 * args, ** kwargs 結合\n"
   ]
  },
  {
   "cell_type": "code",
   "execution_count": 22,
   "metadata": {},
   "outputs": [
    {
     "data": {
      "text/plain": [
       "19"
      ]
     },
     "execution_count": 22,
     "metadata": {},
     "output_type": "execute_result"
    }
   ],
   "source": [
    "def sum_args(*args):\n",
    "    return sum(args)\n",
    "def run_with_positional_args(func, *args):\n",
    "    return func(*args)\n",
    "\n",
    "run_with_positional_args(sum_args, 2, 4, 6, 7) # 2+4+6+7 = 19"
   ]
  },
  {
   "cell_type": "markdown",
   "metadata": {},
   "source": [
    "### 內部函式\n",
    "避免編寫重複的迴圈或程式碼"
   ]
  },
  {
   "cell_type": "code",
   "execution_count": 26,
   "metadata": {},
   "outputs": [
    {
     "data": {
      "text/plain": [
       "\"We are the knights who say: 'Ni'\""
      ]
     },
     "execution_count": 26,
     "metadata": {},
     "output_type": "execute_result"
    }
   ],
   "source": [
    "def knights(saying):\n",
    "    def inner(quote):\n",
    "        return \"We are the knights who say: '%s'\" % quote # '%s'為空格符號\n",
    "    return inner(saying)\n",
    "knights('Ni')"
   ]
  },
  {
   "cell_type": "markdown",
   "metadata": {},
   "source": [
    "### 內部函式中 Closure 所扮演的角色 <<< 先跳過此小章 >>>\n",
    "這式一種由其他的函式動態生成的函式，可以更改或記得函式之外的程式所建立的變數的值。 "
   ]
  },
  {
   "cell_type": "markdown",
   "metadata": {},
   "source": [
    "### 匿名函式：lambda() 函式\n",
    "在python中，lambda是為一種以一行陳述式( statement )來表示的匿名函式。 <br>\n",
    "我們可以用它來取代一般的小函式。"
   ]
  },
  {
   "cell_type": "code",
   "execution_count": 33,
   "metadata": {},
   "outputs": [
    {
     "name": "stdout",
     "output_type": "stream",
     "text": [
      "Thud!\n",
      "Meow!\n",
      "Thud!\n",
      "Hiss!\n",
      "Thud!\n",
      "Meow!\n",
      "Thud!\n",
      "Hiss!\n"
     ]
    }
   ],
   "source": [
    "# 為了說明：先定義函式edit_story()，它的引數有：\n",
    "# words - 一串單字\n",
    "# func - 套用至words內的每一個單字的函式\n",
    "def edit_story(words, func):\n",
    "    for word in words:\n",
    "        print(func(word))\n",
    "\n",
    "# 接下來，我們需要一個單字串列(list)與一個套用至每一個單字的函式，如下。\n",
    "stairs = ['thud', 'meow', 'thud', 'hiss']\n",
    "\n",
    "# 至於函式，它會將每個字的第一個字母改為大寫，並加上一個驚嘆號，非常適合小貓咪在小報頭條上使用\n",
    "def enliven(word): #give that prose more punch\n",
    "    return word.capitalize() + '!'\n",
    "\n",
    "# 混和我們的材料：\n",
    "edit_story(stairs, enliven)\n",
    "\n",
    "# 最後，我們來看看lambda；因為enliven()函式很短，所以我們可以將它轉換成lambda\n",
    "edit_story(stairs, lambda word: word.capitalize() + '!')\n",
    "\n",
    "# 這個lambda會取用一個引數，在此稱為word。在冒號與結束括號之間的所有東西，就是函式的定義"
   ]
  },
  {
   "cell_type": "markdown",
   "metadata": {},
   "source": [
    "### 產生器( generator )\n",
    "是一種python序列建立物件，使用它，我們可以迭代很大的序列，而不需要再記憶體中一次建立或儲存整個序列 <br>\n",
    "如果我們想建立一個很大的序列，那麼我們可能無法使用產生器生成式 <br>\n",
    "我們可以編寫產生器函式，它式一般的函式，會用yield陳述式來回傳值，而不是return"
   ]
  },
  {
   "cell_type": "code",
   "execution_count": 53,
   "metadata": {},
   "outputs": [
    {
     "name": "stdout",
     "output_type": "stream",
     "text": [
      "<function my_range at 0x000001FFC5D1FF28> \n",
      "\n",
      "<generator object my_range at 0x000001FFC5D274C0> \n",
      "\n",
      "1\n",
      "2\n",
      "3\n",
      "4\n",
      "5\n",
      "6\n"
     ]
    }
   ],
   "source": [
    "def my_range(first=0, last=10, step=1):\n",
    "    number = first\n",
    "    while number < last :\n",
    "        yield number\n",
    "        number += step\n",
    "        \n",
    "print(my_range, '\\n')# 它是一個普通的函式\n",
    "\n",
    "# 而且它會回傳一個產生器物件：\n",
    "ranger = my_range(1, 7)\n",
    "print(ranger, '\\n')\n",
    "\n",
    "# 我們可以迭代這個產生器物件：\n",
    "for x in ranger:\n",
    "    print(x)"
   ]
  },
  {
   "cell_type": "markdown",
   "metadata": {},
   "source": [
    "### 裝飾器 ( decorator )\n",
    "有時我們會修改既有的函式，但不想更改原始程式碼 <br>\n",
    "常見的做法，就是加入一個除錯的陳述式，來查看有哪些引數被傳入。 <br><br>\n",
    "裝飾器( decorator )是一種函式，它會接收一個函式，並回傳另一個函式。"
   ]
  },
  {
   "cell_type": "code",
   "execution_count": 75,
   "metadata": {},
   "outputs": [
    {
     "name": "stdout",
     "output_type": "stream",
     "text": [
      "8 \n",
      " ---- \n",
      "\n",
      "Running function: add_ints\n",
      "Positional arguments: ('k', '8')\n",
      "Keyword argments: {}\n",
      "Result: k8\n",
      "k8 \n",
      " <class 'function'>\n"
     ]
    }
   ],
   "source": [
    "# 我們使用以下元素來說明\n",
    "# *args 與 **kwargs\n",
    "# 內部函式\n",
    "# 當成引數的函式\n",
    "\n",
    "# document_it()函式會定義一個裝飾器，它會作以下的工作\n",
    "# 印出函式的名稱\n",
    "# 用引數來執行函式\n",
    "# 印出結果\n",
    "# 回傳修改後的函式，以供使用\n",
    "def document_it(func):\n",
    "    def new_function(*args, **kwargs):\n",
    "        print('Running function:', func.__name__)\n",
    "        print('Positional arguments:', args)\n",
    "        print('Keyword argments:', kwargs)\n",
    "        result = func(*args, **kwargs)\n",
    "        print('Result:', result)\n",
    "        return result\n",
    "    return new_function  \n",
    "    \n",
    "# 我們該如何應用它呢?\n",
    "def add_ints(a, b):\n",
    "    return a + b\n",
    "\n",
    "print(add_ints(3, 5),'\\n' , '----', '\\n')\n",
    "\n",
    "# 我們可以手動應用裝飾器!\n",
    "cooler_add_ints = document_it(add_ints) #manual decorator assigment\n",
    "print(cooler_add_ints('k', '8'), '\\n', type(cooler_add_ints))\n"
   ]
  },
  {
   "cell_type": "code",
   "execution_count": 76,
   "metadata": {},
   "outputs": [
    {
     "name": "stdout",
     "output_type": "stream",
     "text": [
      "Running function: add_strs\n",
      "Positional arguments: ('y', 'yyooo')\n",
      "Keyword argments: {}\n",
      "Result: yyyooo\n"
     ]
    },
    {
     "data": {
      "text/plain": [
       "'yyyooo'"
      ]
     },
     "execution_count": 76,
     "metadata": {},
     "output_type": "execute_result"
    }
   ],
   "source": [
    "# 我們也可以在想要裝飾的函式前加上 @decortor_name，來取代手動指派裝飾器：\n",
    "@document_it\n",
    "def add_strs(a,b):\n",
    "    return a + b\n",
    "\n",
    "add_strs('y','yyooo')"
   ]
  },
  {
   "cell_type": "code",
   "execution_count": 87,
   "metadata": {},
   "outputs": [
    {
     "name": "stdout",
     "output_type": "stream",
     "text": [
      "Running function: new_function_\n",
      "Positional arguments: (2, 3)\n",
      "Keyword argments: {}\n",
      "Result: 25\n",
      "25\n",
      "Running function: add_ints\n",
      "Positional arguments: (3, 3)\n",
      "Keyword argments: {}\n",
      "Result: 6\n",
      "36\n"
     ]
    }
   ],
   "source": [
    "# 同一個函式可以有兩個以上的裝飾器。我們來編寫另一個裝飾，稱為square_it()，它會將結果平方\n",
    "def square_it(func1):\n",
    "    def new_function_(*args, **kwargs):\n",
    "        result1 = func1(*args, **kwargs)\n",
    "        return result1 * result1\n",
    "    return new_function_\n",
    "\n",
    "# 最靠近函式的裝飾器 ( 在def正上方的 )會先執行，接著是它上面的那個。\n",
    "# 無論順序為何，最終結果都是一樣的，但我們可以看到過程中的步驟有些不同\n",
    "@document_it\n",
    "@square_it\n",
    "def add_ints(a, b):\n",
    "    return a + b\n",
    "\n",
    "print(add_ints(2,3)) # 5^2 = 25 # new_function_\n",
    "\n",
    "# 接著我們來試試看裝飾器順序的不同\n",
    "@square_it\n",
    "@document_it\n",
    "def add_ints(a, b):\n",
    "    return a + b\n",
    "\n",
    "print(add_ints(3,3)) # 6^2 = 36 # add_ints"
   ]
  },
  {
   "cell_type": "markdown",
   "metadata": {},
   "source": [
    "### 在名稱中使用 _ 與 __\n",
    "在python中，名稱的開頭與結尾使用兩個底線( __ )是被保留的作法，所以不能再自己的變數中使用他們 <br>\n",
    "之所以會使用這種命名模式，是因為正常情況下，應用程式的開發人員不會再他們自己的變數中使用他們。 <br><br>\n",
    "\n",
    "例如，函式的名稱會被存在系統變數function .__ name __ 內，而它的文件字串是 function .__ doc __ ："
   ]
  },
  {
   "cell_type": "code",
   "execution_count": 92,
   "metadata": {},
   "outputs": [
    {
     "name": "stdout",
     "output_type": "stream",
     "text": [
      "This function is named: amazing\n",
      "And its docstring is : This is the amazing function.\n",
      "    Want to see it again?\n"
     ]
    }
   ],
   "source": [
    "def amazing():\n",
    "    '''This is the amazing function.\n",
    "    Want to see it again?'''\n",
    "    print('This function is named:', amazing.__name__)\n",
    "    print('And its docstring is :', amazing.__doc__)\n",
    "    \n",
    "amazing()"
   ]
  },
  {
   "cell_type": "markdown",
   "metadata": {},
   "source": [
    "### 使用try 與 except 來處理錯誤\n",
    "python使用例外：當發生錯誤時就會執行與它有關的程式。"
   ]
  },
  {
   "cell_type": "code",
   "execution_count": 100,
   "metadata": {},
   "outputs": [
    {
     "name": "stdout",
     "output_type": "stream",
     "text": [
      "Need a position between 0 and 2 but got position 5\n"
     ]
    }
   ],
   "source": [
    "short_list = [1, 2, 3]\n",
    "position = 5\n",
    "# short_list[position] # an error will emerage\n",
    "try:\n",
    "    short_list[position]\n",
    "except:\n",
    "    print('Need a position between 0 and', len(short_list)-1, 'but got position', position)"
   ]
  },
  {
   "cell_type": "markdown",
   "metadata": {},
   "source": [
    "### 製作我們自己的例外\n",
    "我們可以定義自己的例外類型，來處理自己的程式可能出現的特殊情況。"
   ]
  },
  {
   "cell_type": "code",
   "execution_count": 105,
   "metadata": {},
   "outputs": [
    {
     "ename": "SyntaxError",
     "evalue": "invalid syntax (<ipython-input-105-be996c150dd0>, line 10)",
     "output_type": "error",
     "traceback": [
      "\u001b[1;36m  File \u001b[1;32m\"<ipython-input-105-be996c150dd0>\"\u001b[1;36m, line \u001b[1;32m10\u001b[0m\n\u001b[1;33m    except IndexError as err:\u001b[0m\n\u001b[1;37m         ^\u001b[0m\n\u001b[1;31mSyntaxError\u001b[0m\u001b[1;31m:\u001b[0m invalid syntax\n"
     ]
    }
   ],
   "source": [
    "# 我們也可以使用任何數量的專用例外處理程式\n",
    "short_list = [1, 2, 3]\n",
    "while True:\n",
    "    value = input('Position [q to quite]')\n",
    "    if value == 'q':\n",
    "        break\n",
    "    try:\n",
    "        position = int(value)\n",
    "        print(short_list[position])\n",
    "        except IndexError as err:\n",
    "            print('Bad index', position)\n",
    "        except Exception as other:\n",
    "            print('Something else broke:' other)            \n",
    "            "
   ]
  },
  {
   "cell_type": "code",
   "execution_count": null,
   "metadata": {},
   "outputs": [],
   "source": []
  }
 ],
 "metadata": {
  "kernelspec": {
   "display_name": "Python 3",
   "language": "python",
   "name": "python3"
  },
  "language_info": {
   "codemirror_mode": {
    "name": "ipython",
    "version": 3
   },
   "file_extension": ".py",
   "mimetype": "text/x-python",
   "name": "python",
   "nbconvert_exporter": "python",
   "pygments_lexer": "ipython3",
   "version": "3.6.8"
  }
 },
 "nbformat": 4,
 "nbformat_minor": 2
}
