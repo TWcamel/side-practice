{
 "cells": [
  {
   "cell_type": "markdown",
   "metadata": {},
   "source": [
    "<font face=\"微軟正黑體\" size=3 color=#A52A2A > 用反斜線來延續多行"
   ]
  },
  {
   "cell_type": "code",
   "execution_count": 28,
   "metadata": {},
   "outputs": [
    {
     "name": "stdout",
     "output_type": "stream",
     "text": [
      "abcdfghjiklmn \n",
      " \n",
      " ----\n",
      "12345 \n",
      " \n",
      " ----\n"
     ]
    }
   ],
   "source": [
    "### 用反斜線(\\)來延續多行\n",
    "alphabet = ''\n",
    "alphabet += 'abcdfg'\n",
    "alphabet += 'hjiklmn'\n",
    "print(alphabet,'\\n','\\n','----')\n",
    "a = '1' + '2' + '3' + \\\n",
    "    '4' + '5'\n",
    "print(a,'\\n','\\n','----')\n",
    "\n"
   ]
  },
  {
   "cell_type": "code",
   "execution_count": null,
   "metadata": {},
   "outputs": [],
   "source": [
    "##布林運算子的優先順序要比較的程式段落要低\n",
    "#也就是說程式段落會先被計算，再做比較\n",
    "x = 7\n",
    "print(5 < x  and x < 10)\n"
   ]
  },
  {
   "cell_type": "markdown",
   "metadata": {},
   "source": [
    "<font face=\"微軟正黑體\" size=3 color=#A52A2A > 甚麼是True?"
   ]
  },
  {
   "cell_type": "code",
   "execution_count": null,
   "metadata": {},
   "outputs": [],
   "source": [
    "##甚麼是True?\n",
    "#例如，以下都會被視為False\n",
    "#boolen    False\n",
    "#null      None\n",
    "#整數零    0\n",
    "#浮點數零  0\n",
    "#空字串    ''\n",
    "#空串列    []\n",
    "#空tuple   ()\n",
    "#空字典    {}\n",
    "#空集合    set()\n",
    "\n",
    "some_list = []\n",
    "if some_list:\n",
    "    print('good!')\n",
    "else:\n",
    "    print('bad!')"
   ]
  },
  {
   "cell_type": "markdown",
   "metadata": {},
   "source": [
    "<font face=\"微軟正黑體\" size=3 color=#A52A2A > 用While來重複執行 "
   ]
  },
  {
   "cell_type": "code",
   "execution_count": null,
   "metadata": {},
   "outputs": [],
   "source": [
    "##用While來重複執行(這是python中最簡單的迴圈)\n",
    "count = 1\n",
    "while count <= 5:\n",
    "    print(count)\n",
    "    count += 1"
   ]
  },
  {
   "cell_type": "markdown",
   "metadata": {},
   "source": [
    "<font face=\"微軟正黑體\" size=3 color=#A52A2A > 用break來取消"
   ]
  },
  {
   "cell_type": "code",
   "execution_count": null,
   "metadata": {},
   "outputs": [],
   "source": [
    "##用break來取消\n",
    "#若希望while(迴圈)在發生某個情況時可以停止，但不知道甚麼時候發生\n",
    "#可以使用無窮迴圈以及一個braek陳述式\n",
    "while True:\n",
    "    stuff = input('String to capitalize [type q to quit]')\n",
    "    if stuff == 'q':\n",
    "        break\n",
    "    print(stuff.capitalize())\n"
   ]
  },
  {
   "cell_type": "markdown",
   "metadata": {},
   "source": [
    "<font face=\"微軟正黑體\" size=3 color=#A52A2A > 用continue來跳過"
   ]
  },
  {
   "cell_type": "code",
   "execution_count": null,
   "metadata": {},
   "outputs": [],
   "source": [
    "##用continue來跳過\n",
    "#適用於不想跳出迴圈，只想跳過這次的iter(迭代)\n",
    "while True:\n",
    "    value = input('Integer, please [q to quite]')\n",
    "    if value == 'q': #quite\n",
    "        break\n",
    "    number = int(value)\n",
    "    if number % 2 == 0: # an even number\n",
    "        continue   \n",
    "    print(number, 'square is', number*number)\n",
    "    \n",
    "for letter in 'Python':     \n",
    "    if letter == 'h':\n",
    "        continue\n",
    "    print('\\n','\\n','----', '當前字母 :', letter)"
   ]
  },
  {
   "cell_type": "markdown",
   "metadata": {},
   "source": [
    "<font face=\"微軟正黑體\" size=3 color=#A52A2A > 用else來檢查中斷"
   ]
  },
  {
   "cell_type": "code",
   "execution_count": null,
   "metadata": {},
   "outputs": [],
   "source": [
    "##else來檢查中斷\n",
    "#若while正常結束(沒有呼叫break陳述式)，控制權會傳給一個選用的else\n",
    "#可以把else想成[中斷檢查器(break checker)]\n",
    "numbers = [1, 3, 5]\n",
    "position = 0\n",
    "while position < len(numbers):\n",
    "    number = numbers[position]\n",
    "    if number % 2 == 0:\n",
    "        print('Found even number', number)\n",
    "        break\n",
    "    position += 1\n",
    "else: #break not called\n",
    "    print('No even number found')"
   ]
  },
  {
   "cell_type": "markdown",
   "metadata": {},
   "source": [
    "<font face=\"微軟正黑體\" size=3 color=#A52A2A > 用for來迭代(iter) <br>\n",
    "    <font face=\"微軟正黑體\" size=1 color=#A52A2A > 其中else可想成尋找某個東西，在沒有找到他的時候，就會呼叫else!\n"
   ]
  },
  {
   "cell_type": "code",
   "execution_count": null,
   "metadata": {},
   "outputs": [],
   "source": [
    "#可以用來iter動態資料，適用於不適合被全部放在電腦記憶體內的資料\"串流(streaming)\"\n",
    "rabbits = ['Flospy', 'Mopsy', 'Cottonail', 'Peter']\n",
    "current = 0\n",
    "while current < len(rabbits):\n",
    "    print(rabbits[current])\n",
    "    current += 1\n",
    "print('\\n','\\n','----')\n",
    "\n",
    "#使用for來迭代dict()\n",
    "accusation = {'room': 'ballroom', \n",
    "              'weapon': 'lead pipe',\n",
    "              'person': 'Col. Mustard'}\n",
    "for card in accusation: #or, for card in accusation.keys()\n",
    "    print(card,'\\n','\\n','----')\n",
    "print('\\n','\\n','----')    \n",
    "for card in accusation.values():\n",
    "    print(card)\n",
    "print('\\n','\\n','----')\n",
    "    \n",
    "#使用for來迭代tuple()\n",
    "for item in accusation.items():\n",
    "    print(item)\n",
    "print('\\n','\\n','----')\n",
    "\n",
    "#使用else來中斷檢查\n",
    "cheeses = ['s', 'm', 'l']\n",
    "for cheese in cheeses:\n",
    "    print('This shop has some lovely', cheese)\n",
    "    break\n",
    "else: #沒有中斷代表沒有乳酪!\n",
    "    print('This is not much of a cheese shop, is it?')"
   ]
  },
  {
   "cell_type": "markdown",
   "metadata": {},
   "source": [
    "<font face=\"微軟正黑體\" size=3 color=#A52A2A > 用zip()來迭代多個序列結構 <br>\n",
    "    <font face=\"微軟正黑體\" size=1 color=#A52A2A > zip()是以並行的方式來迭代多個序列!"
   ]
  },
  {
   "cell_type": "code",
   "execution_count": null,
   "metadata": {},
   "outputs": [],
   "source": [
    "days = ['Mon', 'Tue', 'Wen']\n",
    "fruits = ['banana', 'orange', 'apple']\n",
    "drinks = ['coffee', 'tea', 'beer']\n",
    "\n",
    "for day, fruit, drink in zip(days, fruits, drinks):\n",
    "    print(day, \": drink\", drink, '- eat', fruit)\n",
    "    \n",
    "#用zip()來製作一個小型的中英辭典\n",
    "chinese = '禮拜一', '禮拜二', '禮拜三'\n",
    "eng = 'Mon', 'Tue', 'Wen'\n",
    "my_dict = list( zip(chinese, eng))\n",
    "print('\\n','----', '\\n', '\\n', dict(my_dict))"
   ]
  },
  {
   "cell_type": "markdown",
   "metadata": {},
   "source": [
    "<font face=\"微軟正黑體\" size=3 color=#A52A2A > 生成式 <br>\n",
    "    <font face=\"微軟正黑體\" size=1 color=#A52A2A > 開起python風格程式的第一個扉頁 <br>\n",
    "        <font face = \"微軟正黑體\" size =1 color = #A52A2A > 最簡單的串列(streaming)生成式： [ 運算子 for 項目 in 可迭代項目 ] <br>\n",
    "            <font face = \"微軟正黑體\" size =1 color = #A52A2A > 或是：[ 運算子 for 項目 in 可迭代項目 if 條件式 ] <br>"
   ]
  },
  {
   "cell_type": "code",
   "execution_count": null,
   "metadata": {},
   "outputs": [],
   "source": [
    "number_list = []\n",
    "for x in range(0,9):\n",
    "    number_list.append(x)\n",
    "print(number_list, '\\n','\\n','----')\n",
    "\n",
    "## [運算子 for 項目 in 可迭代項目]\n",
    "num_list = [number-1 for number in range(1,6)]\n",
    "print(num_list, '\\n','\\n','----')\n",
    "\n",
    "## [ 運算子 for 項目 in 可迭代項目 if 項目的條件式 ] \n",
    "a_list = [number for number in range(0,10) if number % 2 == 1] #odds\n",
    "print(a_list)\n",
    "\n",
    "## 嵌套的迴圈\n",
    "#先嘗試舊的版本\n",
    "rows = range(1,4)\n",
    "cols = range(1,3)\n",
    "for row in rows: # rows*3\n",
    "    for col in cols: # cols*2\n",
    "        print(row, col) # [(rows*3)*2(cols)] * (cols*2)\n",
    "print('\\n','\\n','----')\n",
    "\n",
    "#使用python寫出\n",
    "rows = range(1,4)\n",
    "cols = range(1,3)\n",
    "cells = [(row, col) for row in rows for col in cols]\n",
    "for cell in cells:\n",
    "    print(cell)\n",
    "print('\\n','\\n','----')\n",
    "\n",
    "## 順道一提，當迭代cells串列時，可以使用tuple unpacking\n",
    "# 意思是從每個 tuple 中拉出 row and col 值\n",
    "for row, col in cells:\n",
    "    print(row, col)"
   ]
  },
  {
   "cell_type": "markdown",
   "metadata": {},
   "source": [
    "<font face=\"微軟正黑體\" size=3 color=#A52A2A > dict()生成式 <br>\n",
    "    <font face = \"微軟正黑體\" size =1 color = #A52A2A > 最簡單的串列(streaming)字典生成式： [ key運算子: value運算子 for 運算子 in 可迭代項目 ] <br>\n",
    "         <font face = \"微軟正黑體\" size =1 color = #A52A2A > 此章節示範有誤，複習時可略過!! <br>\n",
    "<!--         <font face = \"微軟正黑體\" size =1 color = #A52A2A > 或是：[ 運算子 for 項目 in 可迭代項目 if 條件式 ] <br> -->"
   ]
  },
  {
   "cell_type": "code",
   "execution_count": null,
   "metadata": {},
   "outputs": [],
   "source": [
    "# 對string('letters')的七個字母各別執行迴圈，並計算該字母出現的次數\n",
    "# 使用兩次word.count(letter)對key與value分別迴圈是浪費時間的做法\n",
    "# 因為這樣就必須計算e兩次，t也是兩次\n",
    "\n",
    "word = 'letters'\n",
    "letter_counts = {letter: word.count('letter') for letter in word}\n",
    "print(letter_counts)\n",
    "\n",
    "# 這是python的做法\n",
    "word = 'letterssss'\n",
    "letter_counts = {letter: word.count('letter') for letter in set(word)}\n",
    "print(letter_counts)"
   ]
  },
  {
   "cell_type": "markdown",
   "metadata": {},
   "source": [
    " <font face = \"微軟正黑體\" size =3 color = #A52A2A > 集合生成式 <br>\n",
    "    <font face = \"微軟正黑體\" size =1 color = #A52A2A > 最簡單的串列(streaming)集合生成式： {運算式 for 運算式 in 可迭代項目 if 條件式} <br>"
   ]
  },
  {
   "cell_type": "code",
   "execution_count": null,
   "metadata": {},
   "outputs": [],
   "source": [
    "a_set = {number for number in range(0,6) if number % 3 == 1}\n",
    "print(a_set, ',', 'Type:', type(a_set))"
   ]
  },
  {
   "cell_type": "markdown",
   "metadata": {},
   "source": [
    " <font face = \"微軟正黑體\" size =3 color = #A52A2A > 產生器生成式 <br>\n",
    "<!--     <font face = \"微軟正黑體\" size =1 color = #A52A2A > 最簡單的串列(streaming)集合生成式： {運算式 for 運算式 in 可迭代項目 if 條件式} <br> -->"
   ]
  },
  {
   "cell_type": "code",
   "execution_count": null,
   "metadata": {},
   "outputs": [],
   "source": []
  }
 ],
 "metadata": {
  "kernelspec": {
   "display_name": "Python 3",
   "language": "python",
   "name": "python3"
  },
  "language_info": {
   "codemirror_mode": {
    "name": "ipython",
    "version": 3
   },
   "file_extension": ".py",
   "mimetype": "text/x-python",
   "name": "python",
   "nbconvert_exporter": "python",
   "pygments_lexer": "ipython3",
   "version": "3.6.8"
  }
 },
 "nbformat": 4,
 "nbformat_minor": 2
}
